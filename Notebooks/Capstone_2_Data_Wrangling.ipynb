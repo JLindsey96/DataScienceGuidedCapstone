{
  "cells": [
    {
      "cell_type": "code",
      "execution_count": 1,
      "metadata": {
        "id": "uxdrLuoCpYS4"
      },
      "outputs": [],
      "source": [
        "import pandas as pd"
      ]
    },
    {
      "cell_type": "code",
      "source": [
        "from google.colab import files\n",
        "uploaded = files.upload()"
      ],
      "metadata": {
        "colab": {
          "base_uri": "https://localhost:8080/",
          "height": 74
        },
        "id": "n_aT7vPMWNWc",
        "outputId": "0fcbdd1f-d895-41c3-bb79-54cc7f18ea14"
      },
      "execution_count": 2,
      "outputs": [
        {
          "output_type": "display_data",
          "data": {
            "text/plain": [
              "<IPython.core.display.HTML object>"
            ],
            "text/html": [
              "\n",
              "     <input type=\"file\" id=\"files-09706a59-f582-44bd-8664-223369c4e5d0\" name=\"files[]\" multiple disabled\n",
              "        style=\"border:none\" />\n",
              "     <output id=\"result-09706a59-f582-44bd-8664-223369c4e5d0\">\n",
              "      Upload widget is only available when the cell has been executed in the\n",
              "      current browser session. Please rerun this cell to enable.\n",
              "      </output>\n",
              "      <script>// Copyright 2017 Google LLC\n",
              "//\n",
              "// Licensed under the Apache License, Version 2.0 (the \"License\");\n",
              "// you may not use this file except in compliance with the License.\n",
              "// You may obtain a copy of the License at\n",
              "//\n",
              "//      http://www.apache.org/licenses/LICENSE-2.0\n",
              "//\n",
              "// Unless required by applicable law or agreed to in writing, software\n",
              "// distributed under the License is distributed on an \"AS IS\" BASIS,\n",
              "// WITHOUT WARRANTIES OR CONDITIONS OF ANY KIND, either express or implied.\n",
              "// See the License for the specific language governing permissions and\n",
              "// limitations under the License.\n",
              "\n",
              "/**\n",
              " * @fileoverview Helpers for google.colab Python module.\n",
              " */\n",
              "(function(scope) {\n",
              "function span(text, styleAttributes = {}) {\n",
              "  const element = document.createElement('span');\n",
              "  element.textContent = text;\n",
              "  for (const key of Object.keys(styleAttributes)) {\n",
              "    element.style[key] = styleAttributes[key];\n",
              "  }\n",
              "  return element;\n",
              "}\n",
              "\n",
              "// Max number of bytes which will be uploaded at a time.\n",
              "const MAX_PAYLOAD_SIZE = 100 * 1024;\n",
              "\n",
              "function _uploadFiles(inputId, outputId) {\n",
              "  const steps = uploadFilesStep(inputId, outputId);\n",
              "  const outputElement = document.getElementById(outputId);\n",
              "  // Cache steps on the outputElement to make it available for the next call\n",
              "  // to uploadFilesContinue from Python.\n",
              "  outputElement.steps = steps;\n",
              "\n",
              "  return _uploadFilesContinue(outputId);\n",
              "}\n",
              "\n",
              "// This is roughly an async generator (not supported in the browser yet),\n",
              "// where there are multiple asynchronous steps and the Python side is going\n",
              "// to poll for completion of each step.\n",
              "// This uses a Promise to block the python side on completion of each step,\n",
              "// then passes the result of the previous step as the input to the next step.\n",
              "function _uploadFilesContinue(outputId) {\n",
              "  const outputElement = document.getElementById(outputId);\n",
              "  const steps = outputElement.steps;\n",
              "\n",
              "  const next = steps.next(outputElement.lastPromiseValue);\n",
              "  return Promise.resolve(next.value.promise).then((value) => {\n",
              "    // Cache the last promise value to make it available to the next\n",
              "    // step of the generator.\n",
              "    outputElement.lastPromiseValue = value;\n",
              "    return next.value.response;\n",
              "  });\n",
              "}\n",
              "\n",
              "/**\n",
              " * Generator function which is called between each async step of the upload\n",
              " * process.\n",
              " * @param {string} inputId Element ID of the input file picker element.\n",
              " * @param {string} outputId Element ID of the output display.\n",
              " * @return {!Iterable<!Object>} Iterable of next steps.\n",
              " */\n",
              "function* uploadFilesStep(inputId, outputId) {\n",
              "  const inputElement = document.getElementById(inputId);\n",
              "  inputElement.disabled = false;\n",
              "\n",
              "  const outputElement = document.getElementById(outputId);\n",
              "  outputElement.innerHTML = '';\n",
              "\n",
              "  const pickedPromise = new Promise((resolve) => {\n",
              "    inputElement.addEventListener('change', (e) => {\n",
              "      resolve(e.target.files);\n",
              "    });\n",
              "  });\n",
              "\n",
              "  const cancel = document.createElement('button');\n",
              "  inputElement.parentElement.appendChild(cancel);\n",
              "  cancel.textContent = 'Cancel upload';\n",
              "  const cancelPromise = new Promise((resolve) => {\n",
              "    cancel.onclick = () => {\n",
              "      resolve(null);\n",
              "    };\n",
              "  });\n",
              "\n",
              "  // Wait for the user to pick the files.\n",
              "  const files = yield {\n",
              "    promise: Promise.race([pickedPromise, cancelPromise]),\n",
              "    response: {\n",
              "      action: 'starting',\n",
              "    }\n",
              "  };\n",
              "\n",
              "  cancel.remove();\n",
              "\n",
              "  // Disable the input element since further picks are not allowed.\n",
              "  inputElement.disabled = true;\n",
              "\n",
              "  if (!files) {\n",
              "    return {\n",
              "      response: {\n",
              "        action: 'complete',\n",
              "      }\n",
              "    };\n",
              "  }\n",
              "\n",
              "  for (const file of files) {\n",
              "    const li = document.createElement('li');\n",
              "    li.append(span(file.name, {fontWeight: 'bold'}));\n",
              "    li.append(span(\n",
              "        `(${file.type || 'n/a'}) - ${file.size} bytes, ` +\n",
              "        `last modified: ${\n",
              "            file.lastModifiedDate ? file.lastModifiedDate.toLocaleDateString() :\n",
              "                                    'n/a'} - `));\n",
              "    const percent = span('0% done');\n",
              "    li.appendChild(percent);\n",
              "\n",
              "    outputElement.appendChild(li);\n",
              "\n",
              "    const fileDataPromise = new Promise((resolve) => {\n",
              "      const reader = new FileReader();\n",
              "      reader.onload = (e) => {\n",
              "        resolve(e.target.result);\n",
              "      };\n",
              "      reader.readAsArrayBuffer(file);\n",
              "    });\n",
              "    // Wait for the data to be ready.\n",
              "    let fileData = yield {\n",
              "      promise: fileDataPromise,\n",
              "      response: {\n",
              "        action: 'continue',\n",
              "      }\n",
              "    };\n",
              "\n",
              "    // Use a chunked sending to avoid message size limits. See b/62115660.\n",
              "    let position = 0;\n",
              "    do {\n",
              "      const length = Math.min(fileData.byteLength - position, MAX_PAYLOAD_SIZE);\n",
              "      const chunk = new Uint8Array(fileData, position, length);\n",
              "      position += length;\n",
              "\n",
              "      const base64 = btoa(String.fromCharCode.apply(null, chunk));\n",
              "      yield {\n",
              "        response: {\n",
              "          action: 'append',\n",
              "          file: file.name,\n",
              "          data: base64,\n",
              "        },\n",
              "      };\n",
              "\n",
              "      let percentDone = fileData.byteLength === 0 ?\n",
              "          100 :\n",
              "          Math.round((position / fileData.byteLength) * 100);\n",
              "      percent.textContent = `${percentDone}% done`;\n",
              "\n",
              "    } while (position < fileData.byteLength);\n",
              "  }\n",
              "\n",
              "  // All done.\n",
              "  yield {\n",
              "    response: {\n",
              "      action: 'complete',\n",
              "    }\n",
              "  };\n",
              "}\n",
              "\n",
              "scope.google = scope.google || {};\n",
              "scope.google.colab = scope.google.colab || {};\n",
              "scope.google.colab._files = {\n",
              "  _uploadFiles,\n",
              "  _uploadFilesContinue,\n",
              "};\n",
              "})(self);\n",
              "</script> "
            ]
          },
          "metadata": {}
        },
        {
          "output_type": "stream",
          "name": "stdout",
          "text": [
            "Saving first_500000_rows.csv to first_500000_rows.csv\n"
          ]
        }
      ]
    },
    {
      "cell_type": "code",
      "execution_count": 4,
      "metadata": {
        "id": "JIjWQpfVpYcP"
      },
      "outputs": [],
      "source": [
        "df = pd.read_csv('/content/first_500000_rows.csv')"
      ]
    },
    {
      "cell_type": "code",
      "source": [
        "column_data = df['dealer_final_value']\n",
        "\n",
        "print(column_data)\n"
      ],
      "metadata": {
        "colab": {
          "base_uri": "https://localhost:8080/"
        },
        "id": "LqhLh9QIZax1",
        "outputId": "b0fe9e55-3849-4ede-ef23-0ed9be2f71f9"
      },
      "execution_count": 6,
      "outputs": [
        {
          "output_type": "stream",
          "name": "stdout",
          "text": [
            "0         24\n",
            "1         18\n",
            "2         22\n",
            "3         18\n",
            "4         20\n",
            "          ..\n",
            "499995    17\n",
            "499996    19\n",
            "499997    18\n",
            "499998    22\n",
            "499999    20\n",
            "Name: dealer_final_value, Length: 500000, dtype: object\n"
          ]
        }
      ]
    },
    {
      "cell_type": "code",
      "execution_count": 7,
      "metadata": {
        "id": "IdlHy1GApYwf",
        "colab": {
          "base_uri": "https://localhost:8080/"
        },
        "outputId": "1108846b-c31f-4c3a-eae9-8edb334dcacf"
      },
      "outputs": [
        {
          "output_type": "stream",
          "name": "stdout",
          "text": [
            "0         24.0\n",
            "1         18.0\n",
            "2         22.0\n",
            "3         18.0\n",
            "4         20.0\n",
            "          ... \n",
            "499995    17.0\n",
            "499996    19.0\n",
            "499997    18.0\n",
            "499998    22.0\n",
            "499999    20.0\n",
            "Name: dealer_final_value, Length: 500000, dtype: float64\n"
          ]
        }
      ],
      "source": [
        "# Remove any leading/trailing whitespace\n",
        "column_data = column_data.str.strip()\n",
        "\n",
        "# Replace any non-numeric characters with empty string\n",
        "column_data = column_data.str.replace('[^0-9]', '', regex=True)\n",
        "\n",
        "# Convert to numeric (will result in NaN for values that cannot be converted)\n",
        "column_data = pd.to_numeric(column_data, errors='coerce')\n",
        "\n",
        "# Optionally, you can fill NaN values with a specific value (e.g., 0)\n",
        "# column_data = column_data.fillna(0)\n",
        "\n",
        "print(column_data)\n"
      ]
    },
    {
      "cell_type": "code",
      "source": [
        "column_data_2 = df['player_final_value']\n",
        "\n",
        "print(column_data_2)"
      ],
      "metadata": {
        "colab": {
          "base_uri": "https://localhost:8080/"
        },
        "id": "euvM5WqcdGeu",
        "outputId": "16989d27-9519-4940-927a-3c8b1b2cf867"
      },
      "execution_count": 8,
      "outputs": [
        {
          "output_type": "stream",
          "name": "stdout",
          "text": [
            "0         ['BJ']\n",
            "1           [21]\n",
            "2           [13]\n",
            "3           [18]\n",
            "4           [26]\n",
            "           ...  \n",
            "499995      [17]\n",
            "499996      [14]\n",
            "499997      [17]\n",
            "499998      [12]\n",
            "499999      [20]\n",
            "Name: player_final_value, Length: 500000, dtype: object\n"
          ]
        }
      ]
    },
    {
      "cell_type": "code",
      "source": [
        "column_data_2 = column_data_2.str.strip()\n",
        "\n",
        "column_data_2 = column_data_2.str.replace('[^0-9]', '', regex=True)\n",
        "\n",
        "column_data_2 = pd.to_numeric(column_data_2, errors='coerce')\n",
        "\n",
        "\n",
        "print(column_data_2)"
      ],
      "metadata": {
        "colab": {
          "base_uri": "https://localhost:8080/"
        },
        "id": "IrxOe6uCdGhC",
        "outputId": "b4039259-3509-4a74-db1c-2196bec3e3d0"
      },
      "execution_count": 9,
      "outputs": [
        {
          "output_type": "stream",
          "name": "stdout",
          "text": [
            "0          NaN\n",
            "1         21.0\n",
            "2         13.0\n",
            "3         18.0\n",
            "4         26.0\n",
            "          ... \n",
            "499995    17.0\n",
            "499996    14.0\n",
            "499997    17.0\n",
            "499998    12.0\n",
            "499999    20.0\n",
            "Name: player_final_value, Length: 500000, dtype: float64\n"
          ]
        }
      ]
    },
    {
      "cell_type": "code",
      "source": [
        "# Explore column_data\n",
        "print(column_data.describe())  # Summary statistics\n",
        "print(column_data.isnull().sum())  # Count of missing values\n",
        "print(column_data.value_counts())  # Frequency of unique values\n",
        "\n",
        "# Explore column_data_2\n",
        "print(column_data_2.describe())  # Summary statistics\n",
        "print(column_data_2.isnull().sum())  # Count of missing values\n",
        "print(column_data_2.value_counts())  # Frequency of unique values"
      ],
      "metadata": {
        "colab": {
          "base_uri": "https://localhost:8080/"
        },
        "id": "f6NE4JwHdGmE",
        "outputId": "cc98bbf4-0d75-4cdc-8b4b-013bbebe9d60"
      },
      "execution_count": 10,
      "outputs": [
        {
          "output_type": "stream",
          "name": "stdout",
          "text": [
            "count    476524.000000\n",
            "mean         20.333702\n",
            "std           2.580619\n",
            "min          17.000000\n",
            "25%          18.000000\n",
            "50%          20.000000\n",
            "75%          22.000000\n",
            "max          26.000000\n",
            "Name: dealer_final_value, dtype: float64\n",
            "23476\n",
            "dealer_final_value\n",
            "20.0    90743\n",
            "18.0    70539\n",
            "19.0    68263\n",
            "17.0    66475\n",
            "21.0    37607\n",
            "22.0    36761\n",
            "23.0    32760\n",
            "24.0    28748\n",
            "25.0    24386\n",
            "26.0    20242\n",
            "Name: count, dtype: int64\n",
            "count    4.761030e+05\n",
            "mean     8.535148e+03\n",
            "std      3.803095e+05\n",
            "min      4.000000e+00\n",
            "25%      1.600000e+01\n",
            "50%      1.800000e+01\n",
            "75%      2.000000e+01\n",
            "max      2.625252e+07\n",
            "Name: player_final_value, dtype: float64\n",
            "23897\n",
            "player_final_value\n",
            "20.0        78186\n",
            "17.0        54348\n",
            "19.0        54072\n",
            "18.0        51040\n",
            "15.0        34856\n",
            "            ...  \n",
            "181320.0        1\n",
            "171215.0        1\n",
            "2415.0          1\n",
            "192012.0        1\n",
            "211916.0        1\n",
            "Name: count, Length: 1151, dtype: int64\n"
          ]
        }
      ]
    },
    {
      "cell_type": "code",
      "source": [
        "# Remove rows with missing values in both columns\n",
        "df_cleaned = df.dropna(subset=['dealer_final_value', 'player_final_value'])\n",
        "\n",
        "# Explore the cleaned data\n",
        "print(column_data.describe())\n",
        "print(column_data.isnull().sum())\n",
        "print(column_data_2.describe())\n",
        "print(column_data_2.isnull().sum())"
      ],
      "metadata": {
        "colab": {
          "base_uri": "https://localhost:8080/"
        },
        "id": "bJ2b-V2cfU9B",
        "outputId": "c3011cc5-e60f-4e77-a663-fc0570f1031b"
      },
      "execution_count": 11,
      "outputs": [
        {
          "output_type": "stream",
          "name": "stdout",
          "text": [
            "count    476524.000000\n",
            "mean         20.333702\n",
            "std           2.580619\n",
            "min          17.000000\n",
            "25%          18.000000\n",
            "50%          20.000000\n",
            "75%          22.000000\n",
            "max          26.000000\n",
            "Name: dealer_final_value, dtype: float64\n",
            "23476\n",
            "count    4.761030e+05\n",
            "mean     8.535148e+03\n",
            "std      3.803095e+05\n",
            "min      4.000000e+00\n",
            "25%      1.600000e+01\n",
            "50%      1.800000e+01\n",
            "75%      2.000000e+01\n",
            "max      2.625252e+07\n",
            "Name: player_final_value, dtype: float64\n",
            "23897\n"
          ]
        }
      ]
    },
    {
      "cell_type": "code",
      "source": [
        "# Remove duplicate rows based on all columns\n",
        "df_no_duplicates = df_cleaned.drop_duplicates()\n",
        "\n",
        "# Explore the data after removing duplicates\n",
        "print(df_no_duplicates.shape)  # Check the new shape\n"
      ],
      "metadata": {
        "colab": {
          "base_uri": "https://localhost:8080/"
        },
        "id": "cDf6nQaPXffo",
        "outputId": "32dbe5fc-b057-457d-e835-a703f70960fa"
      },
      "execution_count": 12,
      "outputs": [
        {
          "output_type": "stream",
          "name": "stdout",
          "text": [
            "(500000, 12)\n"
          ]
        }
      ]
    },
    {
      "cell_type": "code",
      "source": [
        "import numpy as np\n",
        "\n",
        "# Calculate the IQR for both columns\n",
        "Q1_dealer = column_data.quantile(0.25)\n",
        "Q3_dealer = column_data.quantile(0.75)\n",
        "IQR_dealer = Q3_dealer - Q1_dealer\n",
        "\n",
        "Q1_player = column_data_2.quantile(0.25)\n",
        "Q3_player = column_data_2.quantile(0.75)\n",
        "IQR_player = Q3_player - Q1_player\n",
        "\n",
        "# Define bounds for outliers\n",
        "lower_bound_dealer = Q1_dealer - 1.5 * IQR_dealer\n",
        "upper_bound_dealer = Q3_dealer + 1.5 * IQR_dealer\n",
        "\n",
        "lower_bound_player = Q1_player - 1.5 * IQR_player\n",
        "upper_bound_player = Q3_player + 1.5 * IQR_player\n",
        "\n",
        "# Identify outliers\n",
        "outliers_dealer = df_no_duplicates[(column_data > upper_bound_dealer) | (column_data < lower_bound_dealer)]\n",
        "outliers_player = df_no_duplicates[(column_data_2 > upper_bound_player) | (column_data_2 < lower_bound_player)]\n",
        "\n",
        "# Remove them:\n",
        "df_no_outliers = df_no_duplicates[\n",
        "    (column_data <= upper_bound_dealer) & (column_data >= lower_bound_dealer) &\n",
        "    (column_data_2 <= upper_bound_player) & (column_data_2 >= lower_bound_player)]\n",
        "\n",
        "# Explore the data after outlier handling\n",
        "print(df_no_outliers.shape)\n"
      ],
      "metadata": {
        "colab": {
          "base_uri": "https://localhost:8080/"
        },
        "id": "hvR1BCdXXgPv",
        "outputId": "cad9f69f-8e2c-4093-edd4-acb5ef12ee3d"
      },
      "execution_count": 16,
      "outputs": [
        {
          "output_type": "stream",
          "name": "stdout",
          "text": [
            "(441377, 12)\n"
          ]
        }
      ]
    },
    {
      "cell_type": "code",
      "source": [
        "import matplotlib.pyplot as plt\n",
        "import seaborn as sns\n",
        "\n",
        "# Box plots to visualize outliers\n",
        "plt.figure(figsize=(12, 6))\n",
        "plt.subplot(1, 2, 1)\n",
        "sns.boxplot(x=column_data)\n",
        "plt.title('Box Plot of Dealer Final Value')\n",
        "\n",
        "plt.subplot(1, 2, 2)\n",
        "sns.boxplot(x=column_data_2)\n",
        "plt.title('Box Plot of Player Final Value')\n",
        "plt.show()\n",
        "\n",
        "# Scatter plot to see the relationship between the two columns and identify outliers visually\n",
        "plt.figure(figsize=(8, 6))\n",
        "sns.scatterplot(x=column_data, y=column_data_2)\n",
        "plt.title('Scatter Plot of Dealer vs Player Final Value')\n",
        "plt.xlabel('Dealer Final Value')\n",
        "plt.ylabel('Player Final Value')\n",
        "plt.show()\n",
        "\n",
        "# Histogram for each column to see the distribution and potential outliers\n",
        "plt.figure(figsize=(12, 6))\n",
        "plt.subplot(1, 2, 1)\n",
        "sns.histplot(column_data, bins=30)\n",
        "plt.title('Histogram of Dealer Final Value')\n",
        "\n",
        "plt.subplot(1, 2, 2)\n",
        "sns.histplot(column_data_2, bins=30)\n",
        "plt.title('Histogram of Player Final Value')\n",
        "plt.show()\n"
      ],
      "metadata": {
        "colab": {
          "base_uri": "https://localhost:8080/",
          "height": 1000
        },
        "id": "TyKaMKIWZlzw",
        "outputId": "de64785a-4122-4c9e-da96-d623e7fb1372"
      },
      "execution_count": 17,
      "outputs": [
        {
          "output_type": "display_data",
          "data": {
            "text/plain": [
              "<Figure size 1200x600 with 2 Axes>"
            ],
            "image/png": "[encoded data removed]"
          },
          "metadata": {}
        },
        {
          "output_type": "display_data",
          "data": {
            "text/plain": [
              "<Figure size 800x600 with 1 Axes>"
            ],
            "image/png": "[encoded data removed]"
          },
          "metadata": {}
        },
        {
          "output_type": "display_data",
          "data": {
            "text/plain": [
              "<Figure size 1200x600 with 2 Axes>"
            ],
            "image/png": "[encoded data removed]"
          },
          "metadata": {}
        }
      ]
    },
    {
      "cell_type": "code",
      "source": [
        "# Iterate through columns and infer data types\n",
        "for column in df_cleaned.columns:\n",
        "  try:\n",
        "    # Try converting to numeric\n",
        "    df_cleaned[column] = pd.to_numeric(df_cleaned[column], errors='ignore')\n",
        "  except:\n",
        "    pass  # If not numeric, leave as is\n",
        "\n",
        "# Print the data types of each column after conversion\n",
        "print(df_cleaned.dtypes)\n"
      ],
      "metadata": {
        "colab": {
          "base_uri": "https://localhost:8080/"
        },
        "id": "xXy26rrMfU_2",
        "outputId": "a33466a0-31b8-4b5a-de52-2440da3a9f2a"
      },
      "execution_count": 18,
      "outputs": [
        {
          "output_type": "stream",
          "name": "stdout",
          "text": [
            "shoe_id                 int64\n",
            "cards_remaining         int64\n",
            "dealer_up               int64\n",
            "initial_hand           object\n",
            "dealer_final           object\n",
            "dealer_final_value     object\n",
            "player_final           object\n",
            "player_final_value     object\n",
            "actions_taken          object\n",
            "run_count               int64\n",
            "true_count              int64\n",
            "win                   float64\n",
            "dtype: object\n"
          ]
        }
      ]
    },
    {
      "cell_type": "code",
      "source": [
        "new_column_names = {\n",
        "    'dealer_final_value': 'Dealer_Final_Value',\n",
        "    'player_final_value': 'Player_Final_Value'\n",
        "}\n",
        "\n",
        "df_cleaned = df_cleaned.rename(columns=new_column_names)\n",
        "\n",
        "print(df_cleaned.columns)\n"
      ],
      "metadata": {
        "colab": {
          "base_uri": "https://localhost:8080/"
        },
        "id": "PTKR5vZxSiVG",
        "outputId": "8e4befc5-35f4-4228-f67d-bf65b371d4e8"
      },
      "execution_count": 19,
      "outputs": [
        {
          "output_type": "stream",
          "name": "stdout",
          "text": [
            "Index(['shoe_id', 'cards_remaining', 'dealer_up', 'initial_hand',\n",
            "       'dealer_final', 'Dealer_Final_Value', 'player_final',\n",
            "       'Player_Final_Value', 'actions_taken', 'run_count', 'true_count',\n",
            "       'win'],\n",
            "      dtype='object')\n"
          ]
        }
      ]
    },
    {
      "cell_type": "code",
      "source": [
        "df.to_csv('cleaned_data.csv', index=False)"
      ],
      "metadata": {
        "id": "E-_HMFDVSiZU"
      },
      "execution_count": 20,
      "outputs": []
    }
  ],
  "metadata": {
    "colab": {
      "provenance": []
    },
    "kernelspec": {
      "display_name": "Python 3",
      "name": "python3"
    },
    "language_info": {
      "name": "python"
    }
  },
  "nbformat": 4,
  "nbformat_minor": 0
}