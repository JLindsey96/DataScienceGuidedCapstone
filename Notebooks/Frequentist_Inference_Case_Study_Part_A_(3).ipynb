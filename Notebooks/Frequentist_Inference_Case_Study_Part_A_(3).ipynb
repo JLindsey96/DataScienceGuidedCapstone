{
  "cells": [
    {
      "cell_type": "markdown",
      "metadata": {
        "id": "MId_lsLFV5Nj"
      },
      "source": [
        "# Frequentist Inference Case Study - Part A"
      ]
    },
    {
      "cell_type": "markdown",
      "metadata": {
        "id": "yj042HfoV5Nl"
      },
      "source": [
        "## 1. Learning objectives"
      ]
    },
    {
      "cell_type": "markdown",
      "metadata": {
        "id": "bzWuveVfV5Nl"
      },
      "source": [
        "Welcome to part A of the Frequentist inference case study! The purpose of this case study is to help you apply the concepts associated with Frequentist inference in Python. Frequentist inference is the process of deriving conclusions about an underlying distribution via the observation of data. In particular, you'll practice writing Python code to apply the following statistical concepts:\n",
        "* the _z_-statistic\n",
        "* the _t_-statistic\n",
        "* the difference and relationship between the two\n",
        "* the Central Limit Theorem, including its assumptions and consequences\n",
        "* how to estimate the population mean and standard deviation from a sample\n",
        "* the concept of a sampling distribution of a test statistic, particularly for the mean\n",
        "* how to combine these concepts to calculate a confidence interval"
      ]
    },
    {
      "cell_type": "markdown",
      "metadata": {
        "id": "wpQ-hW91V5Nm"
      },
      "source": [
        "## Prerequisites"
      ]
    },
    {
      "cell_type": "markdown",
      "metadata": {
        "id": "mtee_30UV5Nm"
      },
      "source": [
        "To be able to complete this notebook, you are expected to have a basic understanding of:\n",
        "* what a random variable is (p.400 of Professor Spiegelhalter's *The Art of Statistics, hereinafter AoS*)\n",
        "* what a population, and a population distribution, are (p. 397 of *AoS*)\n",
        "* a high-level sense of what the normal distribution is (p. 394 of *AoS*)\n",
        "* what the t-statistic is (p. 275 of *AoS*)\n",
        "\n",
        "Happily, these should all be concepts with which you are reasonably familiar after having read ten chapters of Professor Spiegelhalter's book, *The Art of Statistics*.\n",
        "\n",
        "We'll try to relate the concepts in this case study back to page numbers in *The Art of Statistics* so that you can focus on the Python aspects of this case study. The second part (part B) of this case study will involve another, more real-world application of these tools."
      ]
    },
    {
      "cell_type": "markdown",
      "metadata": {
        "id": "8O42OIMuV5Nn"
      },
      "source": [
        "For this notebook, we will use data sampled from a known normal distribution. This allows us to compare our results with theoretical expectations."
      ]
    },
    {
      "cell_type": "markdown",
      "metadata": {
        "id": "Y2NnmSvlV5Nn"
      },
      "source": [
        "## 2. An introduction to sampling from the normal distribution"
      ]
    },
    {
      "cell_type": "markdown",
      "metadata": {
        "id": "YGwiNIHRV5No"
      },
      "source": [
        "First, let's explore the ways we can generate the normal distribution. While there's a fair amount of interest in [sklearn](https://scikit-learn.org/stable/) within the machine learning community, you're likely to have heard of [scipy](https://docs.scipy.org/doc/scipy-0.15.1/reference/index.html) if you're coming from the sciences. For this assignment, you'll use [scipy.stats](https://docs.scipy.org/doc/scipy-0.15.1/reference/tutorial/stats.html) to complete your work.\n",
        "\n",
        "This assignment will require some digging around and getting your hands dirty (your learning is maximized that way)! You should have the research skills and the tenacity to do these tasks independently, but if you struggle, reach out to your immediate community and your mentor for help."
      ]
    },
    {
      "cell_type": "code",
      "execution_count": 2,
      "metadata": {
        "id": "dobcJex-V5No"
      },
      "outputs": [],
      "source": [
        "from scipy.stats import norm\n",
        "from scipy.stats import t\n",
        "import numpy as np\n",
        "import pandas as pd\n",
        "from numpy.random import seed\n",
        "import matplotlib.pyplot as plt"
      ]
    },
    {
      "cell_type": "markdown",
      "metadata": {
        "id": "NViSM3Y5V5Np"
      },
      "source": [
        "__Q1:__ Call up the documentation for the `norm` function imported above. (Hint: that documentation is [here](https://docs.scipy.org/doc/scipy/reference/generated/scipy.stats.norm.html)). What is the second listed method?"
      ]
    },
    {
      "cell_type": "code",
      "execution_count": 3,
      "metadata": {
        "colab": {
          "base_uri": "https://localhost:8080/"
        },
        "id": "aPmaiT2-V5Np",
        "outputId": "4d139ddb-39a3-42ea-cf79-5a50c037ac21"
      },
      "outputs": [
        {
          "output_type": "stream",
          "name": "stdout",
          "text": [
            "Help on norm_gen in module scipy.stats._continuous_distns:\n",
            "\n",
            "<scipy.stats._continuous_distns.norm_gen object>\n",
            "    A normal continuous random variable.\n",
            "    \n",
            "    The location (``loc``) keyword specifies the mean.\n",
            "    The scale (``scale``) keyword specifies the standard deviation.\n",
            "    \n",
            "    As an instance of the `rv_continuous` class, `norm` object inherits from it\n",
            "    a collection of generic methods (see below for the full list),\n",
            "    and completes them with details specific for this particular distribution.\n",
            "    \n",
            "    Methods\n",
            "    -------\n",
            "    rvs(loc=0, scale=1, size=1, random_state=None)\n",
            "        Random variates.\n",
            "    pdf(x, loc=0, scale=1)\n",
            "        Probability density function.\n",
            "    logpdf(x, loc=0, scale=1)\n",
            "        Log of the probability density function.\n",
            "    cdf(x, loc=0, scale=1)\n",
            "        Cumulative distribution function.\n",
            "    logcdf(x, loc=0, scale=1)\n",
            "        Log of the cumulative distribution function.\n",
            "    sf(x, loc=0, scale=1)\n",
            "        Survival function  (also defined as ``1 - cdf``, but `sf` is sometimes more accurate).\n",
            "    logsf(x, loc=0, scale=1)\n",
            "        Log of the survival function.\n",
            "    ppf(q, loc=0, scale=1)\n",
            "        Percent point function (inverse of ``cdf`` --- percentiles).\n",
            "    isf(q, loc=0, scale=1)\n",
            "        Inverse survival function (inverse of ``sf``).\n",
            "    moment(order, loc=0, scale=1)\n",
            "        Non-central moment of the specified order.\n",
            "    stats(loc=0, scale=1, moments='mv')\n",
            "        Mean('m'), variance('v'), skew('s'), and/or kurtosis('k').\n",
            "    entropy(loc=0, scale=1)\n",
            "        (Differential) entropy of the RV.\n",
            "    fit(data)\n",
            "        Parameter estimates for generic data.\n",
            "        See `scipy.stats.rv_continuous.fit <https://docs.scipy.org/doc/scipy/reference/generated/scipy.stats.rv_continuous.fit.html#scipy.stats.rv_continuous.fit>`__ for detailed documentation of the\n",
            "        keyword arguments.\n",
            "    expect(func, args=(), loc=0, scale=1, lb=None, ub=None, conditional=False, **kwds)\n",
            "        Expected value of a function (of one argument) with respect to the distribution.\n",
            "    median(loc=0, scale=1)\n",
            "        Median of the distribution.\n",
            "    mean(loc=0, scale=1)\n",
            "        Mean of the distribution.\n",
            "    var(loc=0, scale=1)\n",
            "        Variance of the distribution.\n",
            "    std(loc=0, scale=1)\n",
            "        Standard deviation of the distribution.\n",
            "    interval(confidence, loc=0, scale=1)\n",
            "        Confidence interval with equal areas around the median.\n",
            "    \n",
            "    Notes\n",
            "    -----\n",
            "    The probability density function for `norm` is:\n",
            "    \n",
            "    .. math::\n",
            "    \n",
            "        f(x) = \\frac{\\exp(-x^2/2)}{\\sqrt{2\\pi}}\n",
            "    \n",
            "    for a real number :math:`x`.\n",
            "    \n",
            "    The probability density above is defined in the \"standardized\" form. To shift\n",
            "    and/or scale the distribution use the ``loc`` and ``scale`` parameters.\n",
            "    Specifically, ``norm.pdf(x, loc, scale)`` is identically\n",
            "    equivalent to ``norm.pdf(y) / scale`` with\n",
            "    ``y = (x - loc) / scale``. Note that shifting the location of a distribution\n",
            "    does not make it a \"noncentral\" distribution; noncentral generalizations of\n",
            "    some distributions are available in separate classes.\n",
            "    \n",
            "    Examples\n",
            "    --------\n",
            "    >>> import numpy as np\n",
            "    >>> from scipy.stats import norm\n",
            "    >>> import matplotlib.pyplot as plt\n",
            "    >>> fig, ax = plt.subplots(1, 1)\n",
            "    \n",
            "    Calculate the first four moments:\n",
            "    \n",
            "    \n",
            "    >>> mean, var, skew, kurt = norm.stats(moments='mvsk')\n",
            "    \n",
            "    Display the probability density function (``pdf``):\n",
            "    \n",
            "    >>> x = np.linspace(norm.ppf(0.01),\n",
            "    ...                 norm.ppf(0.99), 100)\n",
            "    >>> ax.plot(x, norm.pdf(x),\n",
            "    ...        'r-', lw=5, alpha=0.6, label='norm pdf')\n",
            "    \n",
            "    Alternatively, the distribution object can be called (as a function)\n",
            "    to fix the shape, location and scale parameters. This returns a \"frozen\"\n",
            "    RV object holding the given parameters fixed.\n",
            "    \n",
            "    Freeze the distribution and display the frozen ``pdf``:\n",
            "    \n",
            "    >>> rv = norm()\n",
            "    >>> ax.plot(x, rv.pdf(x), 'k-', lw=2, label='frozen pdf')\n",
            "    \n",
            "    Check accuracy of ``cdf`` and ``ppf``:\n",
            "    \n",
            "    >>> vals = norm.ppf([0.001, 0.5, 0.999])\n",
            "    >>> np.allclose([0.001, 0.5, 0.999], norm.cdf(vals))\n",
            "    True\n",
            "    \n",
            "    Generate random numbers:\n",
            "    \n",
            "    >>> r = norm.rvs(size=1000)\n",
            "    \n",
            "    And compare the histogram:\n",
            "    \n",
            "    >>> ax.hist(r, density=True, bins='auto', histtype='stepfilled', alpha=0.2)\n",
            "    >>> ax.set_xlim([x[0], x[-1]])\n",
            "    >>> ax.legend(loc='best', frameon=False)\n",
            "    >>> plt.show()\n",
            "\n"
          ]
        }
      ],
      "source": [
        "help(norm)"
      ]
    },
    {
      "cell_type": "markdown",
      "metadata": {
        "id": "b3K2IDWTV5Np"
      },
      "source": [
        "__A:__ pdf(x, loc=0, scale=1)\n",
        "        Probability density function."
      ]
    },
    {
      "cell_type": "markdown",
      "metadata": {
        "id": "KguxLQbtV5Np"
      },
      "source": [
        "__Q2:__ Use the method that generates random variates to draw five samples from the standard normal distribution."
      ]
    },
    {
      "cell_type": "markdown",
      "metadata": {
        "id": "qpvs5ys-V5Nq"
      },
      "source": [
        "__A:__"
      ]
    },
    {
      "cell_type": "code",
      "execution_count": 4,
      "metadata": {
        "colab": {
          "base_uri": "https://localhost:8080/"
        },
        "id": "lnd97VMLV5Nq",
        "outputId": "6d4da829-24b4-4a10-b049-564970beb0e4"
      },
      "outputs": [
        {
          "output_type": "stream",
          "name": "stdout",
          "text": [
            "[-0.84800948  1.30590636  0.92420797  0.6404118  -1.05473698]\n"
          ]
        }
      ],
      "source": [
        "seed(47)\n",
        "# draw five samples here\n",
        "samples = norm.rvs(size=5)\n",
        "print(samples)"
      ]
    },
    {
      "cell_type": "markdown",
      "metadata": {
        "id": "LjoEeXKbV5Nq"
      },
      "source": [
        "__Q3:__ What is the mean of this sample? Is it exactly equal to the value you expected? Hint: the sample was drawn from the standard normal distribution. If you want a reminder of the properties of this distribution, check out p. 85 of *AoS*."
      ]
    },
    {
      "cell_type": "markdown",
      "metadata": {
        "id": "iT-UNgikV5Nq"
      },
      "source": [
        "__A:__"
      ]
    },
    {
      "cell_type": "code",
      "execution_count": 5,
      "metadata": {
        "colab": {
          "base_uri": "https://localhost:8080/"
        },
        "id": "Dt0X_DSoV5Nq",
        "outputId": "5680787e-3c5b-46cd-d66e-dcf524938c99"
      },
      "outputs": [
        {
          "output_type": "execute_result",
          "data": {
            "text/plain": [
              "0.19355593334131074"
            ]
          },
          "metadata": {},
          "execution_count": 5
        }
      ],
      "source": [
        "# Calculate and print the mean here, hint: use np.mean()\n",
        "np.mean(samples)"
      ]
    },
    {
      "cell_type": "markdown",
      "metadata": {
        "id": "g0KnXQVpV5Nr"
      },
      "source": [
        "__Q4:__ What is the standard deviation of these numbers? Calculate this manually here as $\\sqrt{\\frac{\\sum_i(x_i - \\bar{x})^2}{n}}$ (This is just the definition of **standard deviation** given by Professor Spiegelhalter on p.403 of *AoS*). Hint: np.sqrt() and np.sum() will be useful here and remember that numPy supports [broadcasting](https://docs.scipy.org/doc/numpy/user/basics.broadcasting.html)."
      ]
    },
    {
      "cell_type": "markdown",
      "metadata": {
        "id": "L-Np2NKoV5Nr"
      },
      "source": [
        "__A:__ 0.9606195639478641"
      ]
    },
    {
      "cell_type": "code",
      "execution_count": 9,
      "metadata": {
        "colab": {
          "base_uri": "https://localhost:8080/"
        },
        "id": "lgbIz_dDV5Nr",
        "outputId": "f2bb36c4-9ea7-4e05-a375-5ae74790ecc7"
      },
      "outputs": [
        {
          "output_type": "stream",
          "name": "stdout",
          "text": [
            "Sample: [-0.84800948  1.30590636  0.92420797  0.6404118  -1.05473698]\n",
            "Mean of the sample: 0.19355593334131074\n",
            "Manually calculated standard deviation: 0.9606195639478641\n"
          ]
        }
      ],
      "source": [
        "sample_mean = np.mean(samples)\n",
        "\n",
        "deviations = samples - sample_mean\n",
        "squared_deviations = deviations**2\n",
        "variance = np.sum(squared_deviations) / len(samples)\n",
        "standard_deviation = np.sqrt(variance)\n",
        "\n",
        "print(\"Sample:\", samples)\n",
        "print(\"Mean of the sample:\", sample_mean)\n",
        "print(\"Manually calculated standard deviation:\", standard_deviation)"
      ]
    },
    {
      "cell_type": "markdown",
      "metadata": {
        "id": "6J8n7W0cV5Nr"
      },
      "source": [
        "Here we have calculated the actual standard deviation of a small data set (of size 5). But in this case, this small data set is actually a sample from our larger (infinite) population. In this case, the population is infinite because we could keep drawing our normal random variates until our computers die!\n",
        "\n",
        "In general, the sample mean we calculate will not be equal to the population mean (as we saw above). A consequence of this is that the sum of squares of the deviations from the _population_ mean will be bigger than the sum of squares of the deviations from the _sample_ mean. In other words, the sum of squares of the deviations from the _sample_ mean is too small to give an unbiased estimate of the _population_ variance. An example of this effect is given [here](https://en.wikipedia.org/wiki/Bessel%27s_correction#Source_of_bias). Scaling our estimate of the variance by the factor $n/(n-1)$ gives an unbiased estimator of the population variance. This factor is known as [Bessel's correction](https://en.wikipedia.org/wiki/Bessel%27s_correction). The consequence of this is that the $n$ in the denominator is replaced by $n-1$.\n",
        "\n",
        "You can see Bessel's correction reflected in Professor Spiegelhalter's definition of **variance** on p. 405 of *AoS*.\n",
        "\n",
        "__Q5:__ If all we had to go on was our five samples, what would be our best estimate of the population standard deviation? Use Bessel's correction ($n-1$ in the denominator), thus $\\sqrt{\\frac{\\sum_i(x_i - \\bar{x})^2}{n-1}}$."
      ]
    },
    {
      "cell_type": "markdown",
      "metadata": {
        "id": "FpwCrLxdV5Nr"
      },
      "source": [
        "__A:__ 1.0740053227518152"
      ]
    },
    {
      "cell_type": "code",
      "execution_count": 10,
      "metadata": {
        "colab": {
          "base_uri": "https://localhost:8080/"
        },
        "id": "3pmlZ8avV5Nr",
        "outputId": "b44034a8-ce31-407b-9e08-a3f909174074"
      },
      "outputs": [
        {
          "output_type": "stream",
          "name": "stdout",
          "text": [
            "Sample: [-0.84800948  1.30590636  0.92420797  0.6404118  -1.05473698]\n",
            "Mean of the sample: 0.19355593334131074\n",
            "Estimated population standard deviation (with Bessel's correction): 1.0740053227518152\n"
          ]
        }
      ],
      "source": [
        "sample_mean = np.mean(samples)\n",
        "\n",
        "deviations = samples - sample_mean\n",
        "squared_deviations = deviations**2\n",
        "variance_with_bessel = np.sum(squared_deviations) / (len(samples) - 1)\n",
        "standard_deviation_with_bessel = np.sqrt(variance_with_bessel)\n",
        "\n",
        "print(\"Sample:\", samples)\n",
        "print(\"Mean of the sample:\", sample_mean)\n",
        "print(\"Estimated population standard deviation (with Bessel's correction):\", standard_deviation_with_bessel)"
      ]
    },
    {
      "cell_type": "markdown",
      "metadata": {
        "id": "1cEbR2UxV5Nr"
      },
      "source": [
        "__Q6:__ Now use numpy's std function to calculate the standard deviation of our random samples. Which of the above standard deviations did it return?"
      ]
    },
    {
      "cell_type": "markdown",
      "metadata": {
        "id": "2fscRZQ9V5Ns"
      },
      "source": [
        "__A:__ It returned the Population Standard Deviation"
      ]
    },
    {
      "cell_type": "code",
      "execution_count": 12,
      "metadata": {
        "colab": {
          "base_uri": "https://localhost:8080/"
        },
        "id": "M8OLMWCfV5Ns",
        "outputId": "d6b9d367-8c03-4c87-adde-ac51293c088d"
      },
      "outputs": [
        {
          "output_type": "stream",
          "name": "stdout",
          "text": [
            "[-0.84800948  1.30590636  0.92420797  0.6404118  -1.05473698]\n"
          ]
        },
        {
          "output_type": "execute_result",
          "data": {
            "text/plain": [
              "0.9606195639478641"
            ]
          },
          "metadata": {},
          "execution_count": 12
        }
      ],
      "source": [
        "seed(47)\n",
        "samples = norm.rvs(size=5)\n",
        "print(samples)\n",
        "\n",
        "np.std(samples)"
      ]
    },
    {
      "cell_type": "markdown",
      "metadata": {
        "id": "bVMakSolV5Ns"
      },
      "source": [
        "__Q7:__ Consult the documentation for np.std() to see how to apply the correction for estimating the population parameter and verify this produces the expected result."
      ]
    },
    {
      "cell_type": "markdown",
      "metadata": {
        "id": "vRlaSA5uV5Ns"
      },
      "source": [
        "__A:__ Below is verification that ddof=1 in np.std() correctly applies the correction for estimating the population standard deviation from a sample."
      ]
    },
    {
      "cell_type": "code",
      "execution_count": 13,
      "metadata": {
        "id": "8p7acrDBV5Ns"
      },
      "outputs": [],
      "source": [
        "std_population = np.std(samples, ddof=0)\n",
        "std_sample = np.std(samples, ddof=1)"
      ]
    },
    {
      "cell_type": "code",
      "execution_count": 14,
      "metadata": {
        "colab": {
          "base_uri": "https://localhost:8080/"
        },
        "id": "a2EPFF-mV5Ns",
        "outputId": "044f5584-daa1-4147-e8e7-19917e7275a7"
      },
      "outputs": [
        {
          "output_type": "stream",
          "name": "stdout",
          "text": [
            "Sample: [-0.84800948  1.30590636  0.92420797  0.6404118  -1.05473698]\n",
            "Population standard deviation (ddof=0): 0.9606195639478641\n",
            "Sample standard deviation (ddof=1): 1.0740053227518152\n"
          ]
        }
      ],
      "source": [
        "print(\"Sample:\", samples)\n",
        "print(\"Population standard deviation (ddof=0):\", std_population)\n",
        "print(\"Sample standard deviation (ddof=1):\", std_sample)"
      ]
    },
    {
      "cell_type": "markdown",
      "metadata": {
        "id": "1m5hN9vwV5Ns"
      },
      "source": [
        "### Summary of section"
      ]
    },
    {
      "cell_type": "markdown",
      "metadata": {
        "id": "uwO9iBpaV5Ns"
      },
      "source": [
        "In this section, you've been introduced to the scipy.stats package and used it to draw a small sample from the standard normal distribution. You've calculated the average (the mean) of this sample and seen that this is not exactly equal to the expected population parameter (which we know because we're generating the random variates from a specific, known distribution). You've been introduced to two ways of calculating the standard deviation; one uses $n$ in the denominator and the other uses $n-1$ (Bessel's correction). You've also seen which of these calculations np.std() performs by default and how to get it to generate the other."
      ]
    },
    {
      "cell_type": "markdown",
      "metadata": {
        "id": "Xrfo9Yw9V5Nt"
      },
      "source": [
        "You use $n$ as the denominator if you want to calculate the standard deviation of a sequence of numbers. You use $n-1$ if you are using this sequence of numbers to estimate the population parameter. This brings us to some terminology that can be a little confusing.\n",
        "\n",
        "The population parameter is traditionally written as $\\sigma$ and the sample statistic as $s$. Rather unhelpfully, $s$ is also called the sample standard deviation (using $n-1$) whereas the standard deviation of the sample uses $n$. That's right, we have the sample standard deviation and the standard deviation of the sample and they're not the same thing!\n",
        "\n",
        "The sample standard deviation\n",
        "\\begin{equation}\n",
        "s = \\sqrt{\\frac{\\sum_i(x_i - \\bar{x})^2}{n-1}} \\approx \\sigma,\n",
        "\\end{equation}\n",
        "is our best (unbiased) estimate of the population parameter ($\\sigma$).\n",
        "\n",
        "If your dataset _is_ your entire population, you simply want to calculate the population parameter, $\\sigma$, via\n",
        "\\begin{equation}\n",
        "\\sigma = \\sqrt{\\frac{\\sum_i(x_i - \\bar{x})^2}{n}}\n",
        "\\end{equation}\n",
        "as you have complete, full knowledge of your population. In other words, your sample _is_ your population. It's worth noting that we're dealing with what Professor Spiegehalter describes on p. 92 of *AoS* as a **metaphorical population**: we have all the data, and we act as if the data-point is taken from a population at random. We can think of this population as an imaginary space of possibilities.\n",
        "\n",
        "If, however, you have sampled _from_ your population, you only have partial knowledge of the state of your population. In this case, the standard deviation of your sample is not an unbiased estimate of the standard deviation of the population, in which case you seek to estimate that population parameter via the sample standard deviation, which uses the $n-1$ denominator."
      ]
    },
    {
      "cell_type": "markdown",
      "metadata": {
        "id": "nloeN1SwV5Nt"
      },
      "source": [
        "Great work so far! Now let's dive deeper."
      ]
    },
    {
      "cell_type": "markdown",
      "metadata": {
        "id": "GdVBQktRV5Nt"
      },
      "source": [
        "## 3. Sampling distributions"
      ]
    },
    {
      "cell_type": "markdown",
      "metadata": {
        "id": "FuZlRq3nV5Nt"
      },
      "source": [
        "So far we've been dealing with the concept of taking a sample from a population to infer the population parameters. One statistic we calculated for a sample was the mean. As our samples will be expected to vary from one draw to another, so will our sample statistics. If we were to perform repeat draws of size $n$ and calculate the mean of each, we would expect to obtain a distribution of values. This is the sampling distribution of the mean. **The Central Limit Theorem (CLT)** tells us that such a distribution will approach a normal distribution as $n$ increases (the intuitions behind the CLT are covered in full on p. 236 of *AoS*). For the sampling distribution of the mean, the standard deviation of this distribution is given by\n",
        "\n",
        "\\begin{equation}\n",
        "\\sigma_{mean} = \\frac{\\sigma}{\\sqrt n}\n",
        "\\end{equation}\n",
        "\n",
        "where $\\sigma_{mean}$ is the standard deviation of the sampling distribution of the mean and $\\sigma$ is the standard deviation of the population (the population parameter)."
      ]
    },
    {
      "cell_type": "markdown",
      "metadata": {
        "id": "MxuxDDX3V5Nt"
      },
      "source": [
        "This is important because typically we are dealing with samples from populations and all we know about the population is what we see in the sample. From this sample, we want to make inferences about the population. We may do this, for example, by looking at the histogram of the values and by calculating the mean and standard deviation (as estimates of the population parameters), and so we are intrinsically interested in how these quantities vary across samples.\n",
        "\n",
        "In other words, now that we've taken one sample of size $n$ and made some claims about the general population, what if we were to take another sample of size $n$? Would we get the same result? Would we make the same claims about the general population? This brings us to a fundamental question: _when we make some inference about a population based on our sample, how confident can we be that we've got it 'right'?_\n",
        "\n",
        "We need to think about **estimates and confidence intervals**: those concepts covered in Chapter 7, p. 189, of *AoS*."
      ]
    },
    {
      "cell_type": "markdown",
      "metadata": {
        "id": "9e73PhhbV5Nt"
      },
      "source": [
        "Now, the standard normal distribution (with its variance equal to its standard deviation of one) would not be a great illustration of a key point. Instead, let's imagine we live in a town of 50,000 people and we know the height of everyone in this town. We will have 50,000 numbers that tell us everything about our population. We'll simulate these numbers now and put ourselves in one particular town, called 'town 47', where the population mean height is 172 cm and population standard deviation is 5 cm."
      ]
    },
    {
      "cell_type": "code",
      "execution_count": 15,
      "metadata": {
        "id": "tJNG3WNEV5Nz"
      },
      "outputs": [],
      "source": [
        "seed(47)\n",
        "pop_heights = norm.rvs(172, 5, size=50000)"
      ]
    },
    {
      "cell_type": "code",
      "execution_count": 16,
      "metadata": {
        "colab": {
          "base_uri": "https://localhost:8080/",
          "height": 472
        },
        "id": "zLbV3NxVV5Nz",
        "outputId": "b323de79-17d3-45e8-8b4a-9bac291c5150"
      },
      "outputs": [
        {
          "output_type": "display_data",
          "data": {
            "text/plain": [
              "<Figure size 640x480 with 1 Axes>"
            ],
            "image/png": "[encoded data removed]"
          },
          "metadata": {}
        }
      ],
      "source": [
        "_ = plt.hist(pop_heights, bins=30)\n",
        "_ = plt.xlabel('height (cm)')\n",
        "_ = plt.ylabel('number of people')\n",
        "_ = plt.title('Distribution of heights in entire town population')\n",
        "_ = plt.axvline(172, color='r')\n",
        "_ = plt.axvline(172+5, color='r', linestyle='--')\n",
        "_ = plt.axvline(172-5, color='r', linestyle='--')\n",
        "_ = plt.axvline(172+10, color='r', linestyle='-.')\n",
        "_ = plt.axvline(172-10, color='r', linestyle='-.')"
      ]
    },
    {
      "cell_type": "markdown",
      "metadata": {
        "id": "6szIbTL0V5N0"
      },
      "source": [
        "Now, 50,000 people is rather a lot to chase after with a tape measure. If all you want to know is the average height of the townsfolk, then can you just go out and measure a sample to get a pretty good estimate of the average height?"
      ]
    },
    {
      "cell_type": "code",
      "execution_count": 17,
      "metadata": {
        "id": "2lHxA-7SV5N1"
      },
      "outputs": [],
      "source": [
        "def townsfolk_sampler(n):\n",
        "    return np.random.choice(pop_heights, n)"
      ]
    },
    {
      "cell_type": "markdown",
      "metadata": {
        "id": "OJAKh-LwV5N1"
      },
      "source": [
        "Let's say you go out one day and randomly sample 10 people to measure."
      ]
    },
    {
      "cell_type": "code",
      "execution_count": 18,
      "metadata": {
        "id": "0k5jVg9LV5N1"
      },
      "outputs": [],
      "source": [
        "seed(47)\n",
        "daily_sample1 = townsfolk_sampler(10)"
      ]
    },
    {
      "cell_type": "code",
      "execution_count": 19,
      "metadata": {
        "colab": {
          "base_uri": "https://localhost:8080/",
          "height": 472
        },
        "id": "rFeHgpA6V5N1",
        "outputId": "5a30ad2e-9e8f-4ee7-eb6e-ac1af356d386"
      },
      "outputs": [
        {
          "output_type": "display_data",
          "data": {
            "text/plain": [
              "<Figure size 640x480 with 1 Axes>"
            ],
            "image/png": "[encoded data removed]"
          },
          "metadata": {}
        }
      ],
      "source": [
        "_ = plt.hist(daily_sample1, bins=10)\n",
        "_ = plt.xlabel('height (cm)')\n",
        "_ = plt.ylabel('number of people')\n",
        "_ = plt.title('Distribution of heights in sample size 10')"
      ]
    },
    {
      "cell_type": "markdown",
      "metadata": {
        "id": "eSMfI_XTV5N1"
      },
      "source": [
        "The sample distribution doesn't resemble what we take the population distribution to be. What do we get for the mean?"
      ]
    },
    {
      "cell_type": "code",
      "execution_count": 20,
      "metadata": {
        "colab": {
          "base_uri": "https://localhost:8080/"
        },
        "id": "V0w5ur1aV5N2",
        "outputId": "6e5c77ea-fe16-4692-c2ef-20a246bd5eef"
      },
      "outputs": [
        {
          "output_type": "execute_result",
          "data": {
            "text/plain": [
              "173.47911444163503"
            ]
          },
          "metadata": {},
          "execution_count": 20
        }
      ],
      "source": [
        "np.mean(daily_sample1)"
      ]
    },
    {
      "cell_type": "markdown",
      "metadata": {
        "id": "L9uIEizhV5N2"
      },
      "source": [
        "And if we went out and repeated this experiment?"
      ]
    },
    {
      "cell_type": "code",
      "execution_count": 21,
      "metadata": {
        "id": "D9IbMHB-V5N2"
      },
      "outputs": [],
      "source": [
        "daily_sample2 = townsfolk_sampler(10)"
      ]
    },
    {
      "cell_type": "code",
      "execution_count": 22,
      "metadata": {
        "colab": {
          "base_uri": "https://localhost:8080/"
        },
        "id": "zKMbBFr2V5N2",
        "outputId": "2973dd3c-8c0c-49c9-aff5-fb2d8c3af588"
      },
      "outputs": [
        {
          "output_type": "execute_result",
          "data": {
            "text/plain": [
              "173.7317666636263"
            ]
          },
          "metadata": {},
          "execution_count": 22
        }
      ],
      "source": [
        "np.mean(daily_sample2)"
      ]
    },
    {
      "cell_type": "markdown",
      "metadata": {
        "id": "kYginW3-V5N3"
      },
      "source": [
        "__Q8:__ Simulate performing this random trial every day for a year, calculating the mean of each daily sample of 10, and plot the resultant sampling distribution of the mean."
      ]
    },
    {
      "cell_type": "markdown",
      "metadata": {
        "id": "zG0LBGWVV5N3"
      },
      "source": [
        "__A:__"
      ]
    },
    {
      "cell_type": "code",
      "execution_count": 23,
      "metadata": {
        "colab": {
          "base_uri": "https://localhost:8080/",
          "height": 472
        },
        "id": "IO55EpxHV5N3",
        "outputId": "f96c6db2-1bc3-464b-b8c7-8c0736e4579c"
      },
      "outputs": [
        {
          "output_type": "display_data",
          "data": {
            "text/plain": [
              "<Figure size 640x480 with 1 Axes>"
            ],
            "image/png": "[encoded data removed]"
          },
          "metadata": {}
        }
      ],
      "source": [
        "days = 365\n",
        "\n",
        "daily_sample_size = 10\n",
        "\n",
        "daily_means = [np.mean(norm.rvs(size=daily_sample_size)) for _ in range(days)]\n",
        "\n",
        "plt.hist(daily_means, bins=30, edgecolor='k', density=True, alpha=0.7, label='Sampling Distribution')\n",
        "plt.title('Sampling Distribution of the Mean (365 daily trials)')\n",
        "plt.xlabel('Sample Mean')\n",
        "plt.ylabel('Density')\n",
        "\n",
        "mean_theoretical = 0\n",
        "std_theoretical = 1 / np.sqrt(daily_sample_size)\n",
        "x = np.linspace(min(daily_means), max(daily_means), 100)\n",
        "plt.plot(x, norm.pdf(x, mean_theoretical, std_theoretical), 'r-', label='Theoretical Normal PDF')\n",
        "\n",
        "plt.legend()\n",
        "plt.show()"
      ]
    },
    {
      "cell_type": "code",
      "execution_count": 25,
      "metadata": {
        "colab": {
          "base_uri": "https://localhost:8080/",
          "height": 472
        },
        "id": "ryCHYFwlV5N3",
        "outputId": "77eeff67-eb8a-4745-d6cb-e373b351d3ca"
      },
      "outputs": [
        {
          "output_type": "display_data",
          "data": {
            "text/plain": [
              "<Figure size 640x480 with 1 Axes>"
            ],
            "image/png": "[encoded data removed]"
          },
          "metadata": {}
        }
      ],
      "source": [
        "seed(47)\n",
        "# take your samples here\n",
        "n_samples = 365\n",
        "sample_size = 10\n",
        "sample_means = [np.mean(townsfolk_sampler(sample_size)) for _ in range(n_samples)]\n",
        "plt.hist(sample_means)\n",
        "plt.xlabel('sample mean')\n",
        "plt.ylabel('frequency')\n",
        "plt.title('Distribution of sample means (n=10)')\n",
        "plt.show()"
      ]
    },
    {
      "cell_type": "markdown",
      "metadata": {
        "id": "3gCUj-oSV5N3"
      },
      "source": [
        "The above is the distribution of the means of samples of size 10 taken from our population. The Central Limit Theorem tells us the expected mean of this distribution will be equal to the population mean, and standard deviation will be $\\sigma / \\sqrt n$, which, in this case, should be approximately 1.58."
      ]
    },
    {
      "cell_type": "markdown",
      "metadata": {
        "id": "OHmuUkUCV5N3"
      },
      "source": [
        "__Q9:__ Verify the above results from the CLT."
      ]
    },
    {
      "cell_type": "markdown",
      "metadata": {
        "id": "wgrqvehKV5N4"
      },
      "source": [
        "__A:__"
      ]
    },
    {
      "cell_type": "code",
      "execution_count": 26,
      "metadata": {
        "colab": {
          "base_uri": "https://localhost:8080/"
        },
        "id": "bsqSI2-8V5N4",
        "outputId": "90e48e61-2988-4edb-dcf4-d1712d885407"
      },
      "outputs": [
        {
          "output_type": "stream",
          "name": "stdout",
          "text": [
            "Mean of sample means: 171.8660049358649\n",
            "Standard deviation of sample means: 1.5756704135286475\n",
            "Theoretical mean: 172\n",
            "Theoretical standard deviation: 1.5811388300841895\n"
          ]
        }
      ],
      "source": [
        "sample_means_mean = np.mean(sample_means)\n",
        "sample_means_std = np.std(sample_means)\n",
        "\n",
        "population_mean = 172\n",
        "population_std = 5\n",
        "sample_size = 10\n",
        "\n",
        "theoretical_mean = population_mean\n",
        "theoretical_std = population_std / np.sqrt(sample_size)\n",
        "\n",
        "print(f\"Mean of sample means: {sample_means_mean}\")\n",
        "print(f\"Standard deviation of sample means: {sample_means_std}\")\n",
        "print(f\"Theoretical mean: {theoretical_mean}\")\n",
        "print(f\"Theoretical standard deviation: {theoretical_std}\")"
      ]
    },
    {
      "cell_type": "markdown",
      "metadata": {
        "id": "vkQBF_fUV5N4"
      },
      "source": [
        "Remember, in this instance, we knew our population parameters, that the average height really is 172 cm and the standard deviation is 5 cm, and we see some of our daily estimates of the population mean were as low as around 168 and some as high as 176."
      ]
    },
    {
      "cell_type": "markdown",
      "metadata": {
        "id": "cH4Jku7kV5N4"
      },
      "source": [
        "__Q10:__ Repeat the above year's worth of samples but for a sample size of 50 (perhaps you had a bigger budget for conducting surveys that year)! Would you expect your distribution of sample means to be wider (more variable) or narrower (more consistent)? Compare your resultant summary statistics to those predicted by the CLT."
      ]
    },
    {
      "cell_type": "markdown",
      "metadata": {
        "id": "0zkTQUAdV5N4"
      },
      "source": [
        "__A:__ Narrower"
      ]
    },
    {
      "cell_type": "code",
      "execution_count": 27,
      "metadata": {
        "colab": {
          "base_uri": "https://localhost:8080/",
          "height": 543
        },
        "id": "-82IIb6EV5N4",
        "outputId": "f3085df4-1681-48c2-9a7e-20371cfb374e"
      },
      "outputs": [
        {
          "output_type": "display_data",
          "data": {
            "text/plain": [
              "<Figure size 640x480 with 1 Axes>"
            ],
            "image/png": "[encoded data removed]"
          },
          "metadata": {}
        },
        {
          "output_type": "stream",
          "name": "stdout",
          "text": [
            "Mean of sample means: 171.94366080916114\n",
            "Standard deviation of sample means: 0.6736107539771146\n",
            "Theoretical mean: 172\n",
            "Theoretical standard deviation: 0.7071067811865475\n"
          ]
        }
      ],
      "source": [
        "seed(47)\n",
        "\n",
        "n_samples = 365\n",
        "sample_size = 50\n",
        "sample_means = [np.mean(townsfolk_sampler(sample_size)) for _ in range(n_samples)]\n",
        "plt.hist(sample_means)\n",
        "plt.xlabel('sample mean')\n",
        "plt.ylabel('frequency')\n",
        "plt.title('Distribution of sample means (n=50)')\n",
        "plt.show()\n",
        "\n",
        "sample_means_mean = np.mean(sample_means)\n",
        "sample_means_std = np.std(sample_means)\n",
        "\n",
        "population_mean = 172\n",
        "population_std = 5\n",
        "sample_size = 50\n",
        "\n",
        "theoretical_mean = population_mean\n",
        "theoretical_std = population_std / np.sqrt(sample_size)\n",
        "\n",
        "print(f\"Mean of sample means: {sample_means_mean}\")\n",
        "print(f\"Standard deviation of sample means: {sample_means_std}\")\n",
        "print(f\"Theoretical mean: {theoretical_mean}\")\n",
        "print(f\"Theoretical standard deviation: {theoretical_std}\")"
      ]
    },
    {
      "cell_type": "markdown",
      "metadata": {
        "id": "fz13r92wV5N5"
      },
      "source": [
        "What we've seen so far, then, is that we can estimate population parameters from a sample from the population, and that samples have their own distributions. Furthermore, the larger the sample size, the narrower are those sampling distributions."
      ]
    },
    {
      "cell_type": "markdown",
      "metadata": {
        "id": "i-g44u_QV5N5"
      },
      "source": [
        "### Normally testing time!"
      ]
    },
    {
      "cell_type": "markdown",
      "metadata": {
        "id": "8wn2AuksV5N5"
      },
      "source": [
        "All of the above is well and good. We've been sampling from a population we know is normally distributed, we've come to understand when to use $n$ and when to use $n-1$ in the denominator to calculate the spread of a distribution, and we've  seen the Central Limit Theorem in action for a sampling distribution. All seems very well behaved in Frequentist land. But, well, why should we really care?"
      ]
    },
    {
      "cell_type": "markdown",
      "metadata": {
        "id": "u-83TEQ5V5N5"
      },
      "source": [
        "Remember, we rarely (if ever) actually know our population parameters but we still have to estimate them somehow. If we want to make inferences to conclusions like \"this observation is unusual\" or \"my population mean has changed\" then we need to have some idea of what the underlying distribution is so we can calculate relevant probabilities. In frequentist inference, we use the formulae above to deduce these population parameters. Take a moment in the next part of this assignment to refresh your understanding of how these probabilities work."
      ]
    },
    {
      "cell_type": "markdown",
      "metadata": {
        "id": "4rJC5AQ8V5N5"
      },
      "source": [
        "Recall some basic properties of the standard normal distribution, such as that about 68% of observations are within plus or minus 1 standard deviation of the mean. Check out the precise definition of a normal distribution on p. 394 of *AoS*.\n",
        "\n",
        "__Q11:__ Using this fact, calculate the probability of observing the value 1 or less in a single observation from the standard normal distribution. Hint: you may find it helpful to sketch the standard normal distribution (the familiar bell shape) and mark the number of standard deviations from the mean on the x-axis and shade the regions of the curve that contain certain percentages of the population."
      ]
    },
    {
      "cell_type": "markdown",
      "metadata": {
        "id": "ndYBZLiTV5N5"
      },
      "source": [
        "__A:__ probability = norm.cdf(1)\n",
        "\n",
        "print(f\"Probability of observing a value of 1 or less: {probability:.4f}\")"
      ]
    },
    {
      "cell_type": "markdown",
      "metadata": {
        "id": "PhTzKHUcV5N6"
      },
      "source": [
        "Calculating this probability involved calculating the area under the curve from the value of 1 and below. To put it in mathematical terms, we need to *integrate* the probability density function. We could just add together the known areas of chunks (from -Inf to 0 and then 0 to $+\\sigma$ in the example above). One way to do this is to look up tables (literally). Fortunately, scipy has this functionality built in with the cdf() function."
      ]
    },
    {
      "cell_type": "markdown",
      "metadata": {
        "id": "PYl3U-T8V5N6"
      },
      "source": [
        "__Q12:__ Use the cdf() function to answer the question above again and verify you get the same answer."
      ]
    },
    {
      "cell_type": "markdown",
      "metadata": {
        "id": "LjtRV81EV5N6"
      },
      "source": [
        "__A:__ 0.8413"
      ]
    },
    {
      "cell_type": "code",
      "execution_count": 28,
      "metadata": {
        "colab": {
          "base_uri": "https://localhost:8080/"
        },
        "id": "ezIVhQScV5N6",
        "outputId": "551406f5-0c3c-434e-bb3f-dc7e239ed20c"
      },
      "outputs": [
        {
          "output_type": "stream",
          "name": "stdout",
          "text": [
            "Probability of observing a value of 1 or less: 0.8413\n"
          ]
        }
      ],
      "source": [
        "probability = norm.cdf(1)\n",
        "\n",
        "print(f\"Probability of observing a value of 1 or less: {probability:.4f}\")"
      ]
    },
    {
      "cell_type": "markdown",
      "metadata": {
        "id": "2rsaZEexV5N6"
      },
      "source": [
        "__Q13:__ Using our knowledge of the population parameters for our townsfolks' heights, what is the probability of selecting one person at random and their height being 177 cm or less? Calculate this using both of the approaches given above."
      ]
    },
    {
      "cell_type": "markdown",
      "metadata": {
        "id": "31oEUdd6V5N6"
      },
      "source": [
        "__A:__ Both approaches give the same result"
      ]
    },
    {
      "cell_type": "code",
      "execution_count": 31,
      "metadata": {
        "colab": {
          "base_uri": "https://localhost:8080/"
        },
        "id": "IBzeKEzAV5N6",
        "outputId": "e0a6f545-cb9d-4f8e-cd44-b7de230b0a28"
      },
      "outputs": [
        {
          "output_type": "stream",
          "name": "stdout",
          "text": [
            "Probability (using Z-score): 0.8413\n",
            "Probability (using normal distribution directly): 0.8413\n"
          ]
        }
      ],
      "source": [
        "# Approach 1: Using the Z-score\n",
        "z_score = (177 - 172) / 5\n",
        "\n",
        "probability_z = norm.cdf(z_score)\n",
        "\n",
        "print(f\"Probability (using Z-score): {probability_z:.4f}\")\n",
        "\n",
        "# Approach 2: Using the normal distribution directly\n",
        "probability_direct = norm.cdf(177, loc=172, scale=5)\n",
        "\n",
        "print(f\"Probability (using normal distribution directly): {probability_direct:.4f}\")"
      ]
    },
    {
      "cell_type": "markdown",
      "metadata": {
        "id": "qy0Fz3T-V5N6"
      },
      "source": [
        "__Q14:__ Turning this question around — suppose we randomly pick one person and measure their height and find they are 2.00 m tall. How surprised should we be at this result, given what we know about the population distribution? In other words, how likely would it be to obtain a value at least as extreme as this? Express this as a probability."
      ]
    },
    {
      "cell_type": "markdown",
      "metadata": {
        "id": "EXsOWQh7V5N7"
      },
      "source": [
        "__A:__ Probability of height >= 200 cm: 0.0000000107"
      ]
    },
    {
      "cell_type": "code",
      "execution_count": 32,
      "metadata": {
        "colab": {
          "base_uri": "https://localhost:8080/"
        },
        "id": "apUtdCcAV5N7",
        "outputId": "6aaf06d4-de74-41d6-8a97-20d596b3f212"
      },
      "outputs": [
        {
          "output_type": "stream",
          "name": "stdout",
          "text": [
            "Z-score for 200 cm: 5.60\n",
            "Probability of height >= 200 cm: 0.0000000107\n"
          ]
        }
      ],
      "source": [
        "mu = 172\n",
        "sigma = 5\n",
        "\n",
        "X = 200\n",
        "\n",
        "Z = (X - mu) / sigma\n",
        "\n",
        "probability = 1 - norm.cdf(Z)\n",
        "\n",
        "print(f\"Z-score for 200 cm: {Z:.2f}\")\n",
        "print(f\"Probability of height >= 200 cm: {probability:.10f}\")"
      ]
    },
    {
      "cell_type": "markdown",
      "metadata": {
        "id": "K3Zw37oOV5N7"
      },
      "source": [
        "What we've just done is calculate the ***p-value*** of the observation of someone 2.00m tall (review *p*-values if you need to on p. 399 of *AoS*). We could calculate this probability by virtue of knowing the population parameters. We were then able to use the known properties of the relevant normal distribution to calculate the probability of observing a value at least as extreme as our test value."
      ]
    },
    {
      "cell_type": "markdown",
      "metadata": {
        "id": "KuG7NxMfV5N7"
      },
      "source": [
        "We're about to come to a pinch, though. We've said a couple of times that we rarely, if ever, know the true population parameters; we have to estimate them from our sample and we cannot even begin to estimate the standard deviation from a single observation.\n",
        "\n",
        "This is very true and usually we have sample sizes larger than one. This means we can calculate the mean of the sample as our best estimate of the population mean and the standard deviation as our best estimate of the population standard deviation.\n",
        "\n",
        "In other words, we are now coming to deal with the sampling distributions we mentioned above as we are generally concerned with the properties of the sample means we obtain.\n",
        "\n",
        "Above, we highlighted one result from the CLT, whereby the sampling distribution (of the mean) becomes narrower and narrower with the square root of the sample size. We remind ourselves that another result from the CLT is that _even if the underlying population distribution is not normal, the sampling distribution will tend to become normal with sufficiently large sample size_. (**Check out p. 199 of AoS if you need to revise this**). This is the key driver for us 'requiring' a certain sample size, for example you may frequently see a minimum sample size of 30 stated in many places. In reality this is simply a rule of thumb; if the underlying distribution is approximately normal then your sampling distribution will already be pretty normal, but if the underlying distribution is heavily skewed then you'd want to increase your sample size."
      ]
    },
    {
      "cell_type": "markdown",
      "metadata": {
        "id": "8ufT3kcbV5N7"
      },
      "source": [
        "__Q15:__ Let's now start from the position of knowing nothing about the heights of people in our town.\n",
        "* Use the random seed of 47, to randomly sample the heights of 50 townsfolk\n",
        "* Estimate the population mean using np.mean\n",
        "* Estimate the population standard deviation using np.std (remember which denominator to use!)\n",
        "* Calculate the (95%) [margin of error](https://www.statisticshowto.datasciencecentral.com/probability-and-statistics/hypothesis-testing/margin-of-error/#WhatMofE) (use the exact critial z value to 2 decimal places - [look this up](https://www.statisticshowto.datasciencecentral.com/probability-and-statistics/find-critical-values/) or use norm.ppf()) Recall that the ***margin of error*** is mentioned on p. 189 of the *AoS* and discussed in depth in that chapter).\n",
        "* Calculate the 95% Confidence Interval of the mean (***confidence intervals*** are defined on p. 385 of *AoS*)\n",
        "* Does this interval include the true population mean?"
      ]
    },
    {
      "cell_type": "markdown",
      "metadata": {
        "id": "jl8Clu0GV5N8"
      },
      "source": [
        "__A:__ Yes, this interval includes the true population mean."
      ]
    },
    {
      "cell_type": "code",
      "execution_count": 33,
      "metadata": {
        "id": "zlhsFpL7V5N8"
      },
      "outputs": [],
      "source": [
        "np.random.seed(47)\n",
        "sample_size = 50\n",
        "sample_heights = np.random.normal(loc=172, scale=5, size=sample_size)"
      ]
    },
    {
      "cell_type": "code",
      "execution_count": 34,
      "metadata": {
        "id": "DcYJvq4qV5N8"
      },
      "outputs": [],
      "source": [
        "mean_sample = np.mean(sample_heights)"
      ]
    },
    {
      "cell_type": "code",
      "execution_count": 35,
      "metadata": {
        "id": "pCZHTyfSV5N8"
      },
      "outputs": [],
      "source": [
        "std_sample = np.std(sample_heights, ddof=1)  # Bessel's correction (n-1)"
      ]
    },
    {
      "cell_type": "code",
      "execution_count": 36,
      "metadata": {
        "id": "uQc-VsGiV5N8"
      },
      "outputs": [],
      "source": [
        "z_critical = norm.ppf(0.975)  # for 95% confidence, alpha/2 = 0.025\n",
        "margin_of_error = z_critical * (std_sample / np.sqrt(sample_size))"
      ]
    },
    {
      "cell_type": "code",
      "execution_count": 37,
      "metadata": {
        "id": "jWOutG_fV5N8"
      },
      "outputs": [],
      "source": [
        "confidence_interval = (mean_sample - margin_of_error, mean_sample + margin_of_error)"
      ]
    },
    {
      "cell_type": "code",
      "source": [
        "population_mean = 172\n",
        "is_within_interval = population_mean >= confidence_interval[0] and population_mean <= confidence_interval[1]"
      ],
      "metadata": {
        "id": "SpL4dbGe9u2p"
      },
      "execution_count": 38,
      "outputs": []
    },
    {
      "cell_type": "code",
      "source": [
        "print(f\"Sample Mean: {mean_sample:.2f}\")\n",
        "print(f\"Sample Standard Deviation: {std_sample:.2f}\")\n",
        "print(f\"Margin of Error: {margin_of_error:.2f}\")\n",
        "print(f\"95% Confidence Interval: {confidence_interval}\")\n",
        "print(f\"Does the interval include the true population mean? {'Yes' if is_within_interval else 'No'}\")"
      ],
      "metadata": {
        "colab": {
          "base_uri": "https://localhost:8080/"
        },
        "id": "4FLqEPiU9uzh",
        "outputId": "7f866adf-bfd9-4b09-ef78-f920ff373c52"
      },
      "execution_count": 39,
      "outputs": [
        {
          "output_type": "stream",
          "name": "stdout",
          "text": [
            "Sample Mean: 171.09\n",
            "Sample Standard Deviation: 4.87\n",
            "Margin of Error: 1.35\n",
            "95% Confidence Interval: (169.74489425614303, 172.44379010949467)\n",
            "Does the interval include the true population mean? Yes\n"
          ]
        }
      ]
    },
    {
      "cell_type": "markdown",
      "metadata": {
        "id": "ZGRQ5ReXV5N8"
      },
      "source": [
        "__Q16:__ Above, we calculated the confidence interval using the critical z value. What is the problem with this? What requirement, or requirements, are we (strictly) failing?"
      ]
    },
    {
      "cell_type": "markdown",
      "metadata": {
        "id": "EVTz_skaV5N8"
      },
      "source": [
        "__A:__ The problem with using the z-distribution in this case is that we are assuming the population standard deviation is known, which is rarely the case in practice. The requirement we are failing is using the t-distribution when estimating population parameters from a sample, particularly when the sample size is not very large or the population standard deviation is unknown.\n",
        "\n",
        "\n",
        "t_critical = t.ppf(0.975, df=sample_size - 1)\n",
        "\n",
        "margin_of_error_t = t_critical * (std_sample / np.sqrt(sample_size))"
      ]
    },
    {
      "cell_type": "markdown",
      "metadata": {
        "id": "qft0aLVjV5N9"
      },
      "source": [
        "__Q17:__ Calculate the 95% confidence interval for the mean using the _t_ distribution. Is this wider or narrower than that based on the normal distribution above? If you're unsure, you may find this [resource](https://www.statisticshowto.datasciencecentral.com/probability-and-statistics/confidence-interval/) useful. For calculating the critical value, remember how you could calculate this for the normal distribution using norm.ppf()."
      ]
    },
    {
      "cell_type": "markdown",
      "metadata": {
        "id": "wEyRNvv9V5N9"
      },
      "source": [
        "__A:__"
      ]
    },
    {
      "cell_type": "code",
      "execution_count": 40,
      "metadata": {
        "id": "XwdAAVY1V5N9"
      },
      "outputs": [],
      "source": [
        "t_critical = t.ppf(0.975, df=49)\n",
        "\n",
        "sample = np.random.normal(172, 5, 50)\n",
        "\n",
        "sample_mean = np.mean(sample)\n",
        "sample_std = np.std(sample, ddof=1)\n",
        "sample_size = len(sample)"
      ]
    },
    {
      "cell_type": "code",
      "execution_count": 41,
      "metadata": {
        "id": "8XzO1490V5N9"
      },
      "outputs": [],
      "source": [
        "df = sample_size - 1\n",
        "\n",
        "t_critical = t.ppf(0.975, df)\n",
        "\n",
        "margin_of_error_t = t_critical * (sample_std / np.sqrt(sample_size))\n",
        "\n",
        "confidence_interval = (sample_mean - margin_of_error_t, sample_mean + margin_of_error_t)"
      ]
    },
    {
      "cell_type": "code",
      "execution_count": 42,
      "metadata": {
        "colab": {
          "base_uri": "https://localhost:8080/"
        },
        "id": "UhaqNYqKV5N9",
        "outputId": "b828ccd4-2546-400c-d3c3-74f5fc87a877"
      },
      "outputs": [
        {
          "output_type": "stream",
          "name": "stdout",
          "text": [
            "Sample Mean: 172.84764613638836\n",
            "Sample Standard Deviation: 5.576883508324581\n",
            "Degrees of Freedom: 49\n",
            "T-Critical Value: 2.0095752371292397\n",
            "Margin of Error: 1.5849327565318403\n",
            "95% Confidence Interval: (171.26271337985654, 174.4325788929202)\n"
          ]
        }
      ],
      "source": [
        "print(f\"Sample Mean: {sample_mean}\")\n",
        "print(f\"Sample Standard Deviation: {sample_std}\")\n",
        "print(f\"Degrees of Freedom: {df}\")\n",
        "print(f\"T-Critical Value: {t_critical}\")\n",
        "print(f\"Margin of Error: {margin_of_error_t}\")\n",
        "print(f\"95% Confidence Interval: {confidence_interval}\")"
      ]
    },
    {
      "cell_type": "markdown",
      "metadata": {
        "id": "nPZpQ9p9V5N9"
      },
      "source": [
        "This is slightly wider than the previous confidence interval. This reflects the greater uncertainty given that we are estimating population parameters from a sample."
      ]
    },
    {
      "cell_type": "markdown",
      "metadata": {
        "id": "GzsCcc7dV5N9"
      },
      "source": [
        "## 4. Learning outcomes"
      ]
    },
    {
      "cell_type": "markdown",
      "metadata": {
        "id": "orBWoUstV5N9"
      },
      "source": [
        "Having completed this project notebook, you now have hands-on experience:\n",
        "* sampling and calculating probabilities from a normal distribution\n",
        "* identifying the correct way to estimate the standard deviation of a population (the population parameter) from a sample\n",
        "* with sampling distribution and now know how the Central Limit Theorem applies\n",
        "* with how to calculate critical values and confidence intervals"
      ]
    },
    {
      "cell_type": "code",
      "execution_count": null,
      "metadata": {
        "id": "a_avkbPJV5N-"
      },
      "outputs": [],
      "source": []
    }
  ],
  "metadata": {
    "kernelspec": {
      "display_name": "Python 3",
      "language": "python",
      "name": "python3"
    },
    "language_info": {
      "codemirror_mode": {
        "name": "ipython",
        "version": 3
      },
      "file_extension": ".py",
      "mimetype": "text/x-python",
      "name": "python",
      "nbconvert_exporter": "python",
      "pygments_lexer": "ipython3",
      "version": "3.7.3"
    },
    "colab": {
      "provenance": []
    }
  },
  "nbformat": 4,
  "nbformat_minor": 0
}