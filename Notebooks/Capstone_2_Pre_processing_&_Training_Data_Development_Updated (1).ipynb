{
  "nbformat": 4,
  "nbformat_minor": 0,
  "metadata": {
    "colab": {
      "provenance": []
    },
    "kernelspec": {
      "name": "python3",
      "display_name": "Python 3"
    },
    "language_info": {
      "name": "python"
    }
  },
  "cells": [
    {
      "cell_type": "code",
      "execution_count": 1,
      "metadata": {
        "id": "aZ13FNr4_y4d"
      },
      "outputs": [],
      "source": [
        "import pandas as pd"
      ]
    },
    {
      "cell_type": "code",
      "source": [
        "from google.colab import files\n",
        "uploaded = files.upload()"
      ],
      "metadata": {
        "colab": {
          "base_uri": "https://localhost:8080/",
          "height": 74
        },
        "id": "7Uo98-tXAAdr",
        "outputId": "ab3be1a3-eabd-44f9-805a-689fca95871b"
      },
      "execution_count": 2,
      "outputs": [
        {
          "output_type": "display_data",
          "data": {
            "text/plain": [
              "<IPython.core.display.HTML object>"
            ],
            "text/html": [
              "\n",
              "     <input type=\"file\" id=\"files-eb376895-3e1b-4e34-84ce-c1d6c0f72048\" name=\"files[]\" multiple disabled\n",
              "        style=\"border:none\" />\n",
              "     <output id=\"result-eb376895-3e1b-4e34-84ce-c1d6c0f72048\">\n",
              "      Upload widget is only available when the cell has been executed in the\n",
              "      current browser session. Please rerun this cell to enable.\n",
              "      </output>\n",
              "      <script>// Copyright 2017 Google LLC\n",
              "//\n",
              "// Licensed under the Apache License, Version 2.0 (the \"License\");\n",
              "// you may not use this file except in compliance with the License.\n",
              "// You may obtain a copy of the License at\n",
              "//\n",
              "//      http://www.apache.org/licenses/LICENSE-2.0\n",
              "//\n",
              "// Unless required by applicable law or agreed to in writing, software\n",
              "// distributed under the License is distributed on an \"AS IS\" BASIS,\n",
              "// WITHOUT WARRANTIES OR CONDITIONS OF ANY KIND, either express or implied.\n",
              "// See the License for the specific language governing permissions and\n",
              "// limitations under the License.\n",
              "\n",
              "/**\n",
              " * @fileoverview Helpers for google.colab Python module.\n",
              " */\n",
              "(function(scope) {\n",
              "function span(text, styleAttributes = {}) {\n",
              "  const element = document.createElement('span');\n",
              "  element.textContent = text;\n",
              "  for (const key of Object.keys(styleAttributes)) {\n",
              "    element.style[key] = styleAttributes[key];\n",
              "  }\n",
              "  return element;\n",
              "}\n",
              "\n",
              "// Max number of bytes which will be uploaded at a time.\n",
              "const MAX_PAYLOAD_SIZE = 100 * 1024;\n",
              "\n",
              "function _uploadFiles(inputId, outputId) {\n",
              "  const steps = uploadFilesStep(inputId, outputId);\n",
              "  const outputElement = document.getElementById(outputId);\n",
              "  // Cache steps on the outputElement to make it available for the next call\n",
              "  // to uploadFilesContinue from Python.\n",
              "  outputElement.steps = steps;\n",
              "\n",
              "  return _uploadFilesContinue(outputId);\n",
              "}\n",
              "\n",
              "// This is roughly an async generator (not supported in the browser yet),\n",
              "// where there are multiple asynchronous steps and the Python side is going\n",
              "// to poll for completion of each step.\n",
              "// This uses a Promise to block the python side on completion of each step,\n",
              "// then passes the result of the previous step as the input to the next step.\n",
              "function _uploadFilesContinue(outputId) {\n",
              "  const outputElement = document.getElementById(outputId);\n",
              "  const steps = outputElement.steps;\n",
              "\n",
              "  const next = steps.next(outputElement.lastPromiseValue);\n",
              "  return Promise.resolve(next.value.promise).then((value) => {\n",
              "    // Cache the last promise value to make it available to the next\n",
              "    // step of the generator.\n",
              "    outputElement.lastPromiseValue = value;\n",
              "    return next.value.response;\n",
              "  });\n",
              "}\n",
              "\n",
              "/**\n",
              " * Generator function which is called between each async step of the upload\n",
              " * process.\n",
              " * @param {string} inputId Element ID of the input file picker element.\n",
              " * @param {string} outputId Element ID of the output display.\n",
              " * @return {!Iterable<!Object>} Iterable of next steps.\n",
              " */\n",
              "function* uploadFilesStep(inputId, outputId) {\n",
              "  const inputElement = document.getElementById(inputId);\n",
              "  inputElement.disabled = false;\n",
              "\n",
              "  const outputElement = document.getElementById(outputId);\n",
              "  outputElement.innerHTML = '';\n",
              "\n",
              "  const pickedPromise = new Promise((resolve) => {\n",
              "    inputElement.addEventListener('change', (e) => {\n",
              "      resolve(e.target.files);\n",
              "    });\n",
              "  });\n",
              "\n",
              "  const cancel = document.createElement('button');\n",
              "  inputElement.parentElement.appendChild(cancel);\n",
              "  cancel.textContent = 'Cancel upload';\n",
              "  const cancelPromise = new Promise((resolve) => {\n",
              "    cancel.onclick = () => {\n",
              "      resolve(null);\n",
              "    };\n",
              "  });\n",
              "\n",
              "  // Wait for the user to pick the files.\n",
              "  const files = yield {\n",
              "    promise: Promise.race([pickedPromise, cancelPromise]),\n",
              "    response: {\n",
              "      action: 'starting',\n",
              "    }\n",
              "  };\n",
              "\n",
              "  cancel.remove();\n",
              "\n",
              "  // Disable the input element since further picks are not allowed.\n",
              "  inputElement.disabled = true;\n",
              "\n",
              "  if (!files) {\n",
              "    return {\n",
              "      response: {\n",
              "        action: 'complete',\n",
              "      }\n",
              "    };\n",
              "  }\n",
              "\n",
              "  for (const file of files) {\n",
              "    const li = document.createElement('li');\n",
              "    li.append(span(file.name, {fontWeight: 'bold'}));\n",
              "    li.append(span(\n",
              "        `(${file.type || 'n/a'}) - ${file.size} bytes, ` +\n",
              "        `last modified: ${\n",
              "            file.lastModifiedDate ? file.lastModifiedDate.toLocaleDateString() :\n",
              "                                    'n/a'} - `));\n",
              "    const percent = span('0% done');\n",
              "    li.appendChild(percent);\n",
              "\n",
              "    outputElement.appendChild(li);\n",
              "\n",
              "    const fileDataPromise = new Promise((resolve) => {\n",
              "      const reader = new FileReader();\n",
              "      reader.onload = (e) => {\n",
              "        resolve(e.target.result);\n",
              "      };\n",
              "      reader.readAsArrayBuffer(file);\n",
              "    });\n",
              "    // Wait for the data to be ready.\n",
              "    let fileData = yield {\n",
              "      promise: fileDataPromise,\n",
              "      response: {\n",
              "        action: 'continue',\n",
              "      }\n",
              "    };\n",
              "\n",
              "    // Use a chunked sending to avoid message size limits. See b/62115660.\n",
              "    let position = 0;\n",
              "    do {\n",
              "      const length = Math.min(fileData.byteLength - position, MAX_PAYLOAD_SIZE);\n",
              "      const chunk = new Uint8Array(fileData, position, length);\n",
              "      position += length;\n",
              "\n",
              "      const base64 = btoa(String.fromCharCode.apply(null, chunk));\n",
              "      yield {\n",
              "        response: {\n",
              "          action: 'append',\n",
              "          file: file.name,\n",
              "          data: base64,\n",
              "        },\n",
              "      };\n",
              "\n",
              "      let percentDone = fileData.byteLength === 0 ?\n",
              "          100 :\n",
              "          Math.round((position / fileData.byteLength) * 100);\n",
              "      percent.textContent = `${percentDone}% done`;\n",
              "\n",
              "    } while (position < fileData.byteLength);\n",
              "  }\n",
              "\n",
              "  // All done.\n",
              "  yield {\n",
              "    response: {\n",
              "      action: 'complete',\n",
              "    }\n",
              "  };\n",
              "}\n",
              "\n",
              "scope.google = scope.google || {};\n",
              "scope.google.colab = scope.google.colab || {};\n",
              "scope.google.colab._files = {\n",
              "  _uploadFiles,\n",
              "  _uploadFilesContinue,\n",
              "};\n",
              "})(self);\n",
              "</script> "
            ]
          },
          "metadata": {}
        },
        {
          "output_type": "stream",
          "name": "stdout",
          "text": [
            "Saving first_500000_rows.csv to first_500000_rows.csv\n"
          ]
        }
      ]
    },
    {
      "cell_type": "code",
      "source": [
        "df = pd.read_csv('/content/first_500000_rows.csv')"
      ],
      "metadata": {
        "id": "zxW9LndhAAau"
      },
      "execution_count": 3,
      "outputs": []
    },
    {
      "cell_type": "code",
      "source": [
        "from sklearn.preprocessing import StandardScaler, OneHotEncoder # Import OneHotEncoder\n",
        "from sklearn.model_selection import train_test_split\n",
        "from sklearn.compose import ColumnTransformer\n",
        "import numpy as np"
      ],
      "metadata": {
        "id": "LFaY8IQ8LNlZ"
      },
      "execution_count": 4,
      "outputs": []
    },
    {
      "cell_type": "code",
      "source": [
        "# Identify numerical and categorical columns\n",
        "numerical_cols = df.select_dtypes(include=np.number).columns.tolist()\n",
        "categorical_cols = df.select_dtypes(exclude=np.number).columns.tolist()\n",
        "\n",
        "target_column = 'player_final_value'\n",
        "\n",
        "# Remove the target column from the feature columns\n",
        "if target_column in numerical_cols:\n",
        "    numerical_cols.remove(target_column)\n",
        "elif target_column in categorical_cols:\n",
        "    categorical_cols.remove(target_column)\n",
        "else:\n",
        "    print(f\"Warning: Target column '{target_column}' not found in the DataFrame.\")\n",
        "\n",
        "\n",
        "# 1. Handle Missing Values (replace with appropriate strategy)\n",
        "for col in df.columns:\n",
        "    if df[col].isnull().any():\n",
        "        if df[col].dtype == 'object':\n",
        "            df[col] = df[col].fillna(df[col].mode()[0]) # Mode for categorical\n",
        "        else:\n",
        "            df[col] = df[col].fillna(df[col].mean()) # Mean for numerical\n",
        "\n",
        "# 2. Remove Duplicates\n",
        "df = df.drop_duplicates()\n",
        "\n",
        "# 3. Outlier Handling (Optional -  consider IQR or Z-score)\n",
        "# Example using IQR for numerical features:\n",
        "for col in numerical_cols:\n",
        "    Q1 = df[col].quantile(0.25)\n",
        "    Q3 = df[col].quantile(0.75)\n",
        "    IQR = Q3 - Q1\n",
        "    lower_bound = Q1 - 1.5 * IQR\n",
        "    upper_bound = Q3 + 1.5 * IQR\n",
        "    df = df[(df[col] >= lower_bound) & (df[col] <= upper_bound)]\n",
        "\n",
        "# 4. Preprocessing for Modeling\n",
        "X = df.drop(target_column, axis=1)\n",
        "y = df[target_column]\n",
        "\n",
        "# Drop rows with null values in the target variable 'y'\n",
        "df = df.dropna(subset=[target_column])\n",
        "y = df[target_column]\n",
        "\n",
        "#Redefine X after dropping rows with null values in y\n",
        "X = df.drop(target_column, axis=1)\n",
        "\n",
        "\n",
        "# Create transformers\n",
        "numeric_transformer = StandardScaler()\n",
        "categorical_transformer = OneHotEncoder(handle_unknown='ignore') # Handle unseen categories in test data\n",
        "\n",
        "# Combine transformers using ColumnTransformer\n",
        "preprocessor = ColumnTransformer(\n",
        "    transformers=[\n",
        "        ('num', numeric_transformer, numerical_cols),\n",
        "        ('cat', categorical_transformer, categorical_cols)\n",
        "    ])\n",
        "\n",
        "# Fit and transform the data\n",
        "X = preprocessor.fit_transform(X)\n",
        "\n",
        "\n",
        "# Now, X is ready for splitting and modeling\n",
        "X_train, X_test, y_train, y_test = train_test_split(X, y, test_size=0.2, random_state=42)\n",
        "print(\"Shapes after splitting:\")\n",
        "print(\"X_train:\", X_train.shape)\n",
        "print(\"X_test:\", X_test.shape)\n",
        "print(\"y_train:\", y_train.shape)\n",
        "print(\"y_test:\", y_test.shape)"
      ],
      "metadata": {
        "colab": {
          "base_uri": "https://localhost:8080/"
        },
        "id": "oBQ-ZiaBAATm",
        "outputId": "376ddf8b-6bda-4553-9dd0-3ba74e6de74f"
      },
      "execution_count": 5,
      "outputs": [
        {
          "output_type": "stream",
          "name": "stdout",
          "text": [
            "Shapes after splitting:\n",
            "X_train: (377408, 27277)\n",
            "X_test: (94353, 27277)\n",
            "y_train: (377408,)\n",
            "y_test: (94353,)\n"
          ]
        }
      ]
    },
    {
      "cell_type": "code",
      "source": [
        "from sklearn.linear_model import LinearRegression\n",
        "from sklearn.tree import DecisionTreeRegressor\n",
        "from sklearn.ensemble import RandomForestRegressor\n",
        "from sklearn.metrics import mean_squared_error, r2_score"
      ],
      "metadata": {
        "id": "L_pXKaL4AAKD"
      },
      "execution_count": 6,
      "outputs": []
    },
    {
      "cell_type": "code",
      "source": [
        "# Remove the target column from the feature columns\n",
        "if target_column in numerical_cols:\n",
        "    numerical_cols.remove(target_column)\n",
        "elif target_column in categorical_cols:\n",
        "    categorical_cols.remove(target_column)\n",
        "else:\n",
        "    print(f\"Warning: Target column '{target_column}' not found in the DataFrame.\")\n",
        "\n",
        "# Create a copy of the DataFrame for cleaning\n",
        "df_cleaned = df.copy()\n",
        "\n",
        "# 1. Handle Missing Values\n",
        "for col in df_cleaned.columns:\n",
        "    if df_cleaned[col].isnull().any():\n",
        "        if df_cleaned[col].dtype == 'object':\n",
        "            df_cleaned[col] = df_cleaned[col].fillna(df_cleaned[col].mode()[0])\n",
        "        else:\n",
        "            df_cleaned[col] = df_cleaned[col].fillna(df_cleaned[col].mean())\n",
        "\n",
        "# 2. Remove Duplicates\n",
        "df_cleaned = df_cleaned.drop_duplicates()\n",
        "\n",
        "# 3. Outlier Handling (using IQR)\n",
        "for col in numerical_cols:\n",
        "    Q1 = df_cleaned[col].quantile(0.25)\n",
        "    Q3 = df_cleaned[col].quantile(0.75)\n",
        "    IQR = Q3 - Q1\n",
        "    lower_bound = Q1 - 1.5 * IQR\n",
        "    upper_bound = Q3 + 1.5 * IQR\n",
        "    df_cleaned = df_cleaned[(df_cleaned[col] >= lower_bound) & (df_cleaned[col] <= upper_bound)]\n",
        "\n",
        "# 4. Clean the target column *before* splitting the data\n",
        "# Handle missing values in the target column\n",
        "if df_cleaned[target_column].isnull().any():\n",
        "    if df_cleaned[target_column].dtype == 'object':\n",
        "        df_cleaned[target_column] = df_cleaned[target_column].fillna(df_cleaned[target_column].mode()[0])\n",
        "    else:\n",
        "        df_cleaned[target_column] = df_cleaned[target_column].fillna(df_cleaned[target_column].mean())\n",
        "\n",
        "\n",
        "# 5. Preprocessing for Modeling\n",
        "X = df_cleaned.drop(target_column, axis=1)\n",
        "y = df_cleaned[target_column]\n",
        "\n",
        "# Ensure that no null values remain in y and align X and y *before* preprocessing\n",
        "y.dropna(inplace=True)\n",
        "X = X.loc[y.index]  # Align X and y using .loc for DataFrame indexing\n",
        "\n",
        "# Create transformers\n",
        "numeric_transformer = StandardScaler()\n",
        "categorical_transformer = OneHotEncoder(handle_unknown='ignore')\n",
        "\n",
        "# Combine transformers\n",
        "preprocessor = ColumnTransformer(\n",
        "    transformers=[\n",
        "        ('num', numeric_transformer, numerical_cols),\n",
        "        ('cat', categorical_transformer, categorical_cols)\n",
        "    ])\n",
        "\n",
        "# Fit and transform the data\n",
        "X = preprocessor.fit_transform(X)  # Now X is transformed after alignment\n",
        "\n",
        "# Split the data\n",
        "X_train, X_test, y_train, y_test = train_test_split(X, y, test_size=0.2, random_state=42)\n",
        "\n",
        "print(\"Shapes after splitting:\")\n",
        "print(\"X_train:\", X_train.shape)\n",
        "print(\"X_test:\", X_test.shape)\n",
        "print(\"y_train:\", y_train.shape)\n",
        "print(\"y_test:\", y_test.shape)"
      ],
      "metadata": {
        "colab": {
          "base_uri": "https://localhost:8080/"
        },
        "id": "ZgYL9YiKAAFK",
        "outputId": "8e7b4f5d-ca37-42ed-c4e8-96cf187a225e"
      },
      "execution_count": 7,
      "outputs": [
        {
          "output_type": "stream",
          "name": "stdout",
          "text": [
            "Warning: Target column 'player_final_value' not found in the DataFrame.\n",
            "Shapes after splitting:\n",
            "X_train: (309792, 24803)\n",
            "X_test: (77448, 24803)\n",
            "y_train: (309792,)\n",
            "y_test: (77448,)\n"
          ]
        }
      ]
    },
    {
      "cell_type": "code",
      "source": [
        "target_column = 'player_final_value'\n",
        "\n",
        "# Identify numerical and categorical columns\n",
        "numerical_cols = df.select_dtypes(include=np.number).columns.tolist()\n",
        "categorical_cols = df.select_dtypes(exclude=np.number).columns.tolist()\n",
        "\n",
        "# Remove target from feature lists\n",
        "if target_column in numerical_cols:\n",
        "    numerical_cols.remove(target_column)\n",
        "elif target_column in categorical_cols:\n",
        "    categorical_cols.remove(target_column)\n",
        "\n",
        "# Handle missing values\n",
        "for col in df.columns:\n",
        "    if df[col].isnull().any():\n",
        "        if pd.api.types.is_numeric_dtype(df[col]):\n",
        "            df[col] = df[col].fillna(df[col].mean())\n",
        "        else:\n",
        "            df[col] = df[col].fillna(df[col].mode()[0])\n",
        "\n",
        "# Remove duplicates\n",
        "df.drop_duplicates(inplace=True)\n",
        "\n",
        "# Outlier handling (example using IQR)\n",
        "for col in numerical_cols:\n",
        "    Q1 = df[col].quantile(0.25)\n",
        "    Q3 = df[col].quantile(0.75)\n",
        "    IQR = Q3 - Q1\n",
        "    lower_bound = Q1 - 1.5 * IQR\n",
        "    upper_bound = Q3 + 1.5 * IQR\n",
        "    df = df[(df[col] >= lower_bound) & (df[col] <= upper_bound)]\n",
        "\n",
        "# Handle missing values in the target variable *before* splitting\n",
        "if df[target_column].isnull().any():\n",
        "    if pd.api.types.is_numeric_dtype(df[target_column]):\n",
        "        df[target_column] = df[target_column].fillna(df[target_column].mean())\n",
        "    else:\n",
        "        df[target_column] = df[target_column].fillna(df[target_column].mode()[0])\n",
        "\n",
        "# Define X and y AFTER handling missing values in the target variable\n",
        "X = df.drop(target_column, axis=1)\n",
        "y = df[target_column]\n",
        "\n",
        "\n",
        "# Ensure no null values in y and align X and y\n",
        "y.dropna(inplace=True)\n",
        "X = X.loc[y.index]\n",
        "\n",
        "#Preprocessing\n",
        "numeric_transformer = StandardScaler()\n",
        "categorical_transformer = OneHotEncoder(handle_unknown=\"ignore\")\n",
        "\n",
        "preprocessor = ColumnTransformer(\n",
        "    transformers=[\n",
        "        (\"num\", numeric_transformer, numerical_cols),\n",
        "        (\"cat\", categorical_transformer, categorical_cols),\n",
        "    ]\n",
        ")\n",
        "\n",
        "\n",
        "X = preprocessor.fit_transform(X)\n",
        "\n",
        "# Split data\n",
        "X_train, X_test, y_train, y_test = train_test_split(X, y, test_size=0.2, random_state=42)\n",
        "\n",
        "print(\"Shapes after splitting:\")\n",
        "print(\"X_train:\", X_train.shape)\n",
        "print(\"X_test:\", X_test.shape)\n",
        "print(\"y_train:\", y_train.shape)\n",
        "print(\"y_test:\", y_test.shape)"
      ],
      "metadata": {
        "colab": {
          "base_uri": "https://localhost:8080/"
        },
        "id": "CZuolqg_AACg",
        "outputId": "8c083203-96d6-4585-b03c-0ae5ee635765"
      },
      "execution_count": 8,
      "outputs": [
        {
          "output_type": "stream",
          "name": "stdout",
          "text": [
            "Shapes after splitting:\n",
            "X_train: (309792, 24803)\n",
            "X_test: (77448, 24803)\n",
            "y_train: (309792,)\n",
            "y_test: (77448,)\n"
          ]
        }
      ]
    },
    {
      "cell_type": "code",
      "source": [
        "# Map card values\n",
        "def map_card_values(df, column_name):\n",
        "    \"\"\"Maps card values to their numerical equivalents.\n",
        "\n",
        "    Args:\n",
        "        df: The Pandas DataFrame containing the card data.\n",
        "        column_name: The name of the column containing the card values.\n",
        "\n",
        "    Returns:\n",
        "        The DataFrame with the mapped card values.\n",
        "    \"\"\"\n",
        "    value_mapping = {\n",
        "        'A': 11,\n",
        "        'J': 10,\n",
        "        'Q': 10,\n",
        "        'K': 10\n",
        "    }\n",
        "\n",
        "    # Convert existing numerical values to strings\n",
        "    # so they can be consistently mapped\n",
        "    df[column_name] = df[column_name].astype(str)\n",
        "\n",
        "    df[column_name] = df[column_name].map(value_mapping).fillna(pd.to_numeric(df[column_name], errors='coerce'))\n",
        "\n",
        "    # Convert any values that remain as strings to NaN\n",
        "    df[column_name] = pd.to_numeric(df[column_name], errors='coerce')\n",
        "\n",
        "\n",
        "    return df"
      ],
      "metadata": {
        "id": "N3YawVMpRSrG"
      },
      "execution_count": 9,
      "outputs": []
    },
    {
      "cell_type": "code",
      "source": [
        "# Before fitting the model, ensure y_train is numeric\n",
        "# Check if y is already numeric (float or int)\n",
        "if not pd.api.types.is_numeric_dtype(y):\n",
        "    # If not numeric, extract numerical target values from list-like strings\n",
        "    y = y.str.extract(r'\\[(\\d+)\\]', expand=False).astype(float)\n",
        "else:\n",
        "    print(\"y is already numeric. Skipping string extraction.\")\n",
        "\n",
        "# Ensure no null values in y and align X and y *BEFORE* preprocessing\n",
        "y.dropna(inplace=True)\n",
        "\n",
        "# Assuming 'df' is your original DataFrame before preprocessing\n",
        "X = df.drop(target_column, axis=1)  # Reset X to the original DataFrame\n",
        "X = X.loc[y.index]  # Align X and y using .loc on the DataFrame\n",
        "\n",
        "# Now proceed with preprocessing\n",
        "numeric_transformer = StandardScaler()\n",
        "categorical_transformer = OneHotEncoder(handle_unknown=\"ignore\")\n",
        "\n",
        "preprocessor = ColumnTransformer(\n",
        "    transformers=[\n",
        "        (\"num\", numeric_transformer, numerical_cols),\n",
        "        (\"cat\", categorical_transformer, categorical_cols),\n",
        "    ]\n",
        ")\n",
        "\n",
        "X = preprocessor.fit_transform(X)  # Now X is transformed after alignment\n",
        "\n",
        "# Split data\n",
        "X_train, X_test, y_train, y_test = train_test_split(X, y, test_size=0.2, random_state=42)\n",
        "\n",
        "\n",
        "# 1. Linear Regression\n",
        "linear_reg = LinearRegression()\n",
        "linear_reg.fit(X_train, y_train)\n",
        "y_pred_linear = linear_reg.predict(X_test)\n",
        "\n",
        "mse_linear = mean_squared_error(y_test, y_pred_linear)\n",
        "r2_linear = r2_score(y_test, y_pred_linear)\n",
        "\n",
        "print(\"Linear Regression:\")\n",
        "print(f\"Mean Squared Error: {mse_linear}\")\n",
        "print(f\"R-squared: {r2_linear}\")"
      ],
      "metadata": {
        "colab": {
          "base_uri": "https://localhost:8080/"
        },
        "id": "AahHD6mY__-Y",
        "outputId": "06391a81-1a03-42ce-ca49-453cdd4d4329"
      },
      "execution_count": 10,
      "outputs": [
        {
          "output_type": "stream",
          "name": "stdout",
          "text": [
            "Linear Regression:\n",
            "Mean Squared Error: 0.03160021873596134\n",
            "R-squared: 0.9971478548857413\n"
          ]
        }
      ]
    },
    {
      "cell_type": "code",
      "source": [
        "# 2. Decision Tree Regression\n",
        "tree_reg = DecisionTreeRegressor(random_state=42) # Add random_state for reproducibility\n",
        "tree_reg.fit(X_train, y_train)\n",
        "y_pred_tree = tree_reg.predict(X_test)\n",
        "\n",
        "# Before calculating the error, handle NaN values in y_test and y_pred_tree\n",
        "y_test_no_nan = y_test.dropna()  # Remove rows with NaN in y_test\n",
        "y_pred_tree_no_nan = y_pred_tree[y_test.notna()]  # Keep predictions corresponding to non-NaN y_test values\n",
        "\n",
        "mse_tree = mean_squared_error(y_test_no_nan, y_pred_tree_no_nan)  # Calculate MSE using non-NaN values\n",
        "r2_tree = r2_score(y_test_no_nan, y_pred_tree_no_nan)  # Calculate R-squared using non-NaN values\n",
        "\n",
        "print(\"\\nDecision Tree Regression:\")\n",
        "print(f\"Mean Squared Error: {mse_tree}\")\n",
        "print(f\"R-squared: {r2_tree}\")"
      ],
      "metadata": {
        "colab": {
          "base_uri": "https://localhost:8080/"
        },
        "id": "VsGdzN74__8B",
        "outputId": "7206f40f-4d0e-4417-96e9-a2f773e46b12"
      },
      "execution_count": 11,
      "outputs": [
        {
          "output_type": "stream",
          "name": "stdout",
          "text": [
            "\n",
            "Decision Tree Regression:\n",
            "Mean Squared Error: 0.1947424818046452\n",
            "R-squared: 0.9824231021101876\n"
          ]
        }
      ]
    },
    {
      "cell_type": "code",
      "source": [
        "# 3. Random Forest Regression\n",
        "forest_reg = RandomForestRegressor(random_state=42, n_estimators=100) # Increased n_estimators\n",
        "forest_reg.fit(X_train, y_train)\n",
        "y_pred_forest = forest_reg.predict(X_test)\n",
        "\n",
        "# Before calculating the error, handle NaN values in y_test\n",
        "y_test_no_nan = y_test.dropna()  # Remove rows with NaN in y_test\n",
        "y_pred_forest_no_nan = y_pred_forest[y_test.notna()]  # Keep predictions corresponding to non-NaN y_test values\n",
        "\n",
        "# Calculate MSE and R-squared using non-NaN values\n",
        "mse_forest = mean_squared_error(y_test_no_nan, y_pred_forest_no_nan)\n",
        "r2_forest = r2_score(y_test_no_nan, y_pred_forest_no_nan)\n",
        "\n",
        "print(\"\\nRandom Forest Regression:\")\n",
        "print(f\"Mean Squared Error: {mse_forest}\")\n",
        "print(f\"R-squared: {r2_forest}\")"
      ],
      "metadata": {
        "colab": {
          "base_uri": "https://localhost:8080/"
        },
        "id": "Gq_slnLi__5k",
        "outputId": "8c38faa4-157e-4f7c-a4c3-41deb718f2b9"
      },
      "execution_count": 12,
      "outputs": [
        {
          "output_type": "stream",
          "name": "stdout",
          "text": [
            "\n",
            "Random Forest Regression:\n",
            "Mean Squared Error: 0.13207860810754396\n",
            "R-squared: 0.9880789636312446\n"
          ]
        }
      ]
    },
    {
      "cell_type": "markdown",
      "source": [
        "I feel the Linear Regression model is the best model to use based on the lower Mean Squared Error."
      ],
      "metadata": {
        "id": "9k7tD-I2j52c"
      }
    }
  ]
}